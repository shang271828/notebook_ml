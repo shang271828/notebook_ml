{
 "cells": [
  {
   "cell_type": "code",
   "execution_count": 5,
   "metadata": {},
   "outputs": [
    {
     "name": "stdout",
     "output_type": "stream",
     "text": [
      "Full Mode: 我/ 来到/ 北京/ 清华/ 清华大学/ 华大/ 大学\n"
     ]
    }
   ],
   "source": [
    "import jieba\n",
    "seg_list = jieba.cut(\"我来到北京清华大学\", cut_all=True)\n",
    "print(\"Full Mode: \" + \"/ \".join(seg_list))  # 全模式\n"
   ]
  },
  {
   "cell_type": "code",
   "execution_count": 25,
   "metadata": {},
   "outputs": [
    {
     "name": "stdout",
     "output_type": "stream",
     "text": [
      "哪些, 公司, 主营, 产品, 价格, 产品价格, 出现, 上涨\n"
     ]
    }
   ],
   "source": [
    "seg_list = jieba.cut_for_search(\"哪些公司主营产品价格出现上涨\")  # 搜索引擎模式\n",
    "print(\", \".join(seg_list))\n"
   ]
  },
  {
   "cell_type": "code",
   "execution_count": 14,
   "metadata": {},
   "outputs": [
    {
     "name": "stdout",
     "output_type": "stream",
     "text": [
      "Full Mode: 王军/ 虎头虎脑/ 的\n"
     ]
    }
   ],
   "source": [
    "seg_list = jieba.cut(\"王军虎头虎脑的\", cut_all=False)\n",
    "print(\"Full Mode: \" + \"/ \".join(seg_list))  # 精确模式"
   ]
  },
  {
   "cell_type": "code",
   "execution_count": 11,
   "metadata": {},
   "outputs": [
    {
     "name": "stdout",
     "output_type": "stream",
     "text": [
      "哪些/r\n",
      "公司/n\n",
      "主营/b\n",
      "产品价格/n\n",
      "出现/v\n",
      "上涨/v\n"
     ]
    }
   ],
   "source": [
    "import jieba.posseg\n",
    "string = '哪些公司主营产品价格出现上涨'  \n",
    "seg_list = jieba.posseg.cut(string)  \n",
    "for seg in seg_list:\n",
    "    print(seg)"
   ]
  },
  {
   "cell_type": "code",
   "execution_count": 15,
   "metadata": {},
   "outputs": [
    {
     "ename": "IndentationError",
     "evalue": "unexpected indent (<ipython-input-15-ed81b48dbdf3>, line 2)",
     "output_type": "error",
     "traceback": [
      "\u001b[0;36m  File \u001b[0;32m\"<ipython-input-15-ed81b48dbdf3>\"\u001b[0;36m, line \u001b[0;32m2\u001b[0m\n\u001b[0;31m    TestSegment(analyzer,\"他说的确实在理\");\u001b[0m\n\u001b[0m    ^\u001b[0m\n\u001b[0;31mIndentationError\u001b[0m\u001b[0;31m:\u001b[0m unexpected indent\n"
     ]
    }
   ],
   "source": [
    "      TestSegment(analyzer,\"沿海南方向逃跑\");\n",
    "        TestSegment(analyzer,\"他说的确实在理\");\n",
    "        TestSegment(analyzer,\"谢霆锋和张柏芝离婚了\");\n",
    "        TestSegment(analyzer,\"结婚的和尚未结婚的\");\n",
    "        TestSegment(analyzer,\"提高产品质量\");\n",
    "        TestSegment(analyzer,\"中外科学名著\");\n",
    "        TestSegment(analyzer,\"北京大学生前来应聘\");\n",
    "        TestSegment(analyzer,\"为人民服务\");\n",
    "        TestSegment(analyzer,\"独立自主和平等互利的原则\");\n",
    "        TestSegment(analyzer,\"为人民办公益\");\n",
    "        TestSegment(analyzer,\"这事的确定不下来\");\n",
    "        TestSegment(analyzer,\"这扇门把手\");\n",
    "        TestSegment(analyzer,\"把手抬起来\");\n",
    "        TestSegment(analyzer,\"学生会宣传部\");\n",
    "        TestSegment(analyzer,\"学生会主动完成作业\");\n",
    "        TestSegment(analyzer,\"学生会游戏\");\n",
    "        TestSegment(analyzer,\"研究生活水平\");\n",
    "        TestSegment(analyzer,\"中国有企业\");\n",
    "        TestSegment(analyzer,\"我爱美国手球\");\n",
    "        TestSegment(analyzer,\"中国喜欢狗\");\n",
    "        TestSegment(analyzer,\"中国热爱狗\");\n",
    "        TestSegment(analyzer,\"王军虎去广州了\");\n",
    "        TestSegment(analyzer,\"王军虎头虎脑的\");\n",
    "        TestSegment(analyzer,\"将军任命了一名中将\");\n",
    "        TestSegment(analyzer,\"产量三年中将增长两倍\");"
   ]
  },
  {
   "cell_type": "code",
   "execution_count": 1,
   "metadata": {},
   "outputs": [
    {
     "ename": "FileNotFoundError",
     "evalue": "[Errno 2] No such file or directory: '/root/workspace/notebook/shangmeng/冰与火之歌全集.txt'",
     "output_type": "error",
     "traceback": [
      "\u001b[0;31m---------------------------------------------------------------------------\u001b[0m",
      "\u001b[0;31mFileNotFoundError\u001b[0m                         Traceback (most recent call last)",
      "\u001b[0;32m<ipython-input-1-6e86ca6cbe91>\u001b[0m in \u001b[0;36m<module>\u001b[0;34m()\u001b[0m\n\u001b[1;32m      3\u001b[0m \u001b[0;34m\u001b[0m\u001b[0m\n\u001b[1;32m      4\u001b[0m \u001b[0mpath\u001b[0m \u001b[0;34m=\u001b[0m \u001b[0;34mu'/root/workspace/notebook/shangmeng/冰与火之歌全集.txt'\u001b[0m\u001b[0;34m\u001b[0m\u001b[0m\n\u001b[0;32m----> 5\u001b[0;31m \u001b[0mfile_in\u001b[0m \u001b[0;34m=\u001b[0m \u001b[0mopen\u001b[0m\u001b[0;34m(\u001b[0m\u001b[0mpath\u001b[0m\u001b[0;34m,\u001b[0m \u001b[0;34m'r'\u001b[0m\u001b[0;34m)\u001b[0m\u001b[0;34m\u001b[0m\u001b[0m\n\u001b[0m\u001b[1;32m      6\u001b[0m \u001b[0mcontent\u001b[0m \u001b[0;34m=\u001b[0m \u001b[0mfile_in\u001b[0m\u001b[0;34m.\u001b[0m\u001b[0mread\u001b[0m\u001b[0;34m(\u001b[0m\u001b[0;34m)\u001b[0m\u001b[0;34m\u001b[0m\u001b[0m\n\u001b[1;32m      7\u001b[0m \u001b[0;34m\u001b[0m\u001b[0m\n",
      "\u001b[0;31mFileNotFoundError\u001b[0m: [Errno 2] No such file or directory: '/root/workspace/notebook/shangmeng/冰与火之歌全集.txt'"
     ]
    }
   ],
   "source": [
    "# coding:utf-8\n",
    "import jieba.analyse\n",
    "\n",
    "path = u'/root/workspace/notebook/shangmeng/冰与火之歌全集.txt'\n",
    "file_in = open(path, 'r')\n",
    "content = file_in.read()\n",
    "\n",
    "try:\n",
    "    jieba.analyse.set_stop_words('/data/dict/stopwords_cn.txt')\n",
    "    tags = jieba.analyse.extract_tags(content, topK=100, withWeight=True)\n",
    "    for v, n in tags:\n",
    "        #权重是小数，为了凑整，乘了一万\n",
    "        print(v + '\\t' + str(int(n * 10000)))\n",
    "\n",
    "finally:\n",
    "    file_in.close()"
   ]
  },
  {
   "cell_type": "code",
   "execution_count": 2,
   "metadata": {},
   "outputs": [
    {
     "name": "stderr",
     "output_type": "stream",
     "text": [
      "Building prefix dict from the default dictionary ...\n",
      "Loading model from cache /tmp/jieba.cache\n",
      "Loading model cost 26.293 seconds.\n",
      "Prefix dict has been built succesfully.\n"
     ]
    },
    {
     "name": "stdout",
     "output_type": "stream",
     "text": [
      "哈定\t1103\n",
      "马洛\t874\n",
      "谢顿\t609\n",
      "瑞昂\t477\n",
      "纳克\t465\n",
      "基地\t429\n",
      "盖尔\t427\n",
      "端点\t291\n",
      "皮翰纳\t267\n",
      "彭耶慈\t260\n",
      "银河\t259\n",
      "瑟特\t257\n",
      "尼斯\t249\n",
      "已经\t246\n",
      "帝国\t245\n",
      "知道\t231\n",
      "星舰\t219\n",
      "行商\t216\n",
      "现在\t201\n",
      "一点\t181\n",
      "杜尔\t179\n",
      "艾萨克\t173\n",
      "核能\t169\n",
      "阿西莫夫\t169\n",
      "瑞尔\t158\n",
      "行星\t153\n",
      "之后\t153\n",
      "川陀\t152\n",
      "大公\t140\n",
      "教士\t139\n",
      "百科全书\t138\n",
      "领袖\t136\n",
      "太空船\t134\n",
      "瑞索\t128\n",
      "技官\t125\n",
      "国王\t122\n",
      "这种\t122\n",
      "哥罗夫\t121\n",
      "不会\t121\n",
      "时候\t120\n",
      "麦克\t120\n",
      "市长\t119\n",
      "列普德\t118\n",
      "回答\t117\n",
      "绝对\t117\n",
      "告诉\t116\n",
      "立刻\t113\n",
      "完全\t113\n",
      "可能\t111\n",
      "想要\t109\n",
      "大人\t108\n",
      "宗教\t108\n",
      "约翰\t108\n",
      "应该\t107\n",
      "根本\t106\n",
      "杰尔\t105\n",
      "博士\t103\n",
      "也许\t103\n",
      "危机\t103\n",
      "阿斯\t99\n",
      "能够\t98\n",
      "哈里\t98\n",
      "王国\t98\n",
      "无法\t97\n",
      "法尔\t96\n",
      "问题\t96\n",
      "似乎\t94\n",
      "没错\t94\n",
      "继续\t94\n",
      "道尔\t93\n",
      "文大人\t92\n",
      "太空\t91\n",
      "核铳\t91\n",
      "影象\t91\n",
      "不能\t89\n",
      "开始\t88\n",
      "一定\t86\n",
      "如今\t85\n",
      "曾经\t84\n",
      "作者\t84\n",
      "行动\t84\n",
      "若缀\t84\n",
      "声音\t84\n",
      "外缘\t82\n",
      "全都\t82\n",
      "真的\t81\n",
      "银河帝国\t81\n",
      "舰队\t80\n",
      "微笑\t80\n",
      "起来\t79\n",
      "相信\t78\n",
      "整个\t77\n",
      "世界\t77\n",
      "雪茄\t77\n",
      "我要\t77\n",
      "计划\t77\n",
      "黄金\t77\n",
      "巡弋\t76\n",
      "突然\t76\n",
      "圣灵\t75\n"
     ]
    }
   ],
   "source": [
    "# coding:utf-8\n",
    "import jieba.analyse\n",
    "\n",
    "path = u'/data/raw/novel/基地1.txt'\n",
    "file_in = open(path, 'r')\n",
    "content = file_in.read()\n",
    "\n",
    "try:\n",
    "    jieba.analyse.set_stop_words('/data/dict/stopwords_cn.txt')\n",
    "    tags = jieba.analyse.extract_tags(content, topK=100, withWeight=True)\n",
    "    for v, n in tags:\n",
    "        #权重是小数，为了凑整，乘了一万\n",
    "        print(v + '\\t' + str(int(n * 10000)))\n",
    "\n",
    "finally:\n",
    "    file_in.close()\n"
   ]
  },
  {
   "cell_type": "code",
   "execution_count": null,
   "metadata": {},
   "outputs": [],
   "source": []
  }
 ],
 "metadata": {
  "kernelspec": {
   "display_name": "Python [conda env:anaconda3]",
   "language": "python",
   "name": "conda-env-anaconda3-py"
  },
  "language_info": {
   "codemirror_mode": {
    "name": "ipython",
    "version": 3
   },
   "file_extension": ".py",
   "mimetype": "text/x-python",
   "name": "python",
   "nbconvert_exporter": "python",
   "pygments_lexer": "ipython3",
   "version": "3.6.4"
  }
 },
 "nbformat": 4,
 "nbformat_minor": 2
}
