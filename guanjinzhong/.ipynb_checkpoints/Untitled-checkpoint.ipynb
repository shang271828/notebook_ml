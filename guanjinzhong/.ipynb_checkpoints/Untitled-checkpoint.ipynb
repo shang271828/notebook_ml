{
 "cells": [
  {
   "cell_type": "code",
   "execution_count": 2,
   "metadata": {},
   "outputs": [
    {
     "name": "stdout",
     "output_type": "stream",
     "text": [
      "哪些, 公司, 主营, 产品, 价格, 产品价格, 出现, 上涨\n"
     ]
    }
   ],
   "source": [
    "seg_list = jieba.cut_for_search(\"哪些公司主营产品价格出现上涨\")  # 搜索引擎模式\n",
    "print(\", \".join(seg_list))"
   ]
  },
  {
   "cell_type": "code",
   "execution_count": 4,
   "metadata": {},
   "outputs": [
    {
     "name": "stdout",
     "output_type": "stream",
     "text": [
      "哪些/r\n",
      "公司/n\n",
      "主营/b\n",
      "产品价格/n\n",
      "出现/v\n",
      "上涨/v\n"
     ]
    }
   ],
   "source": [
    "import jieba.posseg\n",
    "string = '哪些公司主营产品价格出现上涨'  \n",
    "seg_list = jieba.posseg.cut(string)  \n",
    "for seg in seg_list:\n",
    "    print(seg)"
   ]
  },
  {
   "cell_type": "code",
   "execution_count": 1,
   "metadata": {},
   "outputs": [
    {
     "name": "stderr",
     "output_type": "stream",
     "text": [
      "Building prefix dict from the default dictionary ...\n",
      "Loading model from cache /tmp/jieba.cache\n",
      "Loading model cost 2.356 seconds.\n",
      "Prefix dict has been built succesfully.\n"
     ]
    },
    {
     "name": "stdout",
     "output_type": "stream",
     "text": [
      "哪些/r\n",
      "公司/n\n",
      "主营/b\n",
      "产品价格/n\n",
      "出现/v\n",
      "上涨/v\n"
     ]
    }
   ],
   "source": [
    "import jieba.posseg\n",
    "string = '哪些公司主营产品价格出现上涨'  \n",
    "seg_list = jieba.posseg.cut(string)  \n",
    "for seg in seg_list:\n",
    "    print(seg)"
   ]
  },
  {
   "cell_type": "code",
   "execution_count": 10,
   "metadata": {},
   "outputs": [
    {
     "name": "stdout",
     "output_type": "stream",
     "text": [
      "十年\t2435\n",
      "喜欢\t1859\n",
      "文艺\t1281\n",
      "更加\t1154\n",
      "面对\t971\n",
      "烟火\t956\n",
      "世界\t949\n",
      "敢于\t859\n",
      "预言\t858\n",
      "改变\t851\n",
      "无论如何\t792\n",
      "觉得\t787\n",
      "美丽\t756\n",
      "清晰\t754\n",
      "文字\t690\n",
      "青年\t690\n",
      "路上\t682\n",
      "生日快乐\t668\n",
      "努力\t654\n",
      "看遍\t649\n",
      "事不办\t649\n",
      "新歌\t649\n",
      "31\t649\n",
      "923\t649\n",
      "前到\t649\n",
      "楚怡\t649\n",
      "2013\t649\n",
      "22\t649\n",
      "现在\t644\n",
      "太笨\t642\n",
      "是因为\t639\n",
      "自恋\t630\n",
      "糟透了\t625\n",
      "卓尔不群\t625\n",
      "滚滚向前\t620\n",
      "率真\t595\n",
      "妥贴\t585\n",
      "明处\t585\n",
      "秋分\t580\n",
      "真快\t578\n",
      "发自内心\t574\n",
      "一事无成\t574\n",
      "好运气\t570\n",
      "力所能及\t559\n",
      "跌宕\t553\n",
      "不羁\t552\n",
      "出类拔萃\t548\n",
      "赛车\t541\n",
      "无畏\t541\n",
      "光明磊落\t538\n",
      "义无反顾\t534\n",
      "绽放\t533\n",
      "扬手\t532\n",
      "暗处\t522\n",
      "言辞\t519\n",
      "坦荡\t516\n",
      "终将\t515\n",
      "一代人\t509\n",
      "词语\t493\n",
      "骨子里\t489\n",
      "天赋\t488\n",
      "世界观\t483\n",
      "足足\t482\n",
      "丑陋\t477\n",
      "多长\t476\n",
      "肮脏\t476\n",
      "发生\t472\n",
      "高尚\t462\n",
      "车轮\t460\n",
      "日记\t460\n",
      "博客\t457\n",
      "运气\t454\n",
      "过得\t449\n",
      "不致\t448\n",
      "坚强\t446\n",
      "十里\t444\n",
      "时间\t443\n",
      "孤独\t440\n",
      "分水岭\t438\n",
      "果断\t438\n",
      "视频\t437\n",
      "一点点\t432\n",
      "知道\t431\n",
      "注定\t431\n",
      "势必\t431\n",
      "悲观\t426\n",
      "纵横\t421\n",
      "勇气\t417\n",
      "节日\t412\n",
      "坚定\t408\n",
      "起点\t407\n",
      "绝望\t404\n",
      "默默地\t402\n",
      "纯粹\t399\n",
      "安慰\t388\n",
      "杂志\t376\n",
      "天空\t375\n",
      "黑暗\t373\n",
      "人生\t372\n",
      "优秀\t368\n"
     ]
    }
   ],
   "source": [
    "# coding:utf-8\n",
    "import jieba.analyse\n",
    "\n",
    "path = u'/root/workspace/notebook/test/1.txt'\n",
    "file_in = open(path, 'r')\n",
    "content = file_in.read()\n",
    "\n",
    "try:\n",
    "    jieba.analyse.set_stop_words('/data/dict/stopwords_cn.txt')\n",
    "    tags = jieba.analyse.extract_tags(content, topK=100, withWeight=True)\n",
    "    for v, n in tags:\n",
    "        #权重是小数，为了凑整，乘了一万\n",
    "        print(v + '\\t' + str(int(n * 10000)))\n",
    "\n",
    "finally:\n",
    "    file_in.close()"
   ]
  },
  {
   "cell_type": "code",
   "execution_count": null,
   "metadata": {},
   "outputs": [],
   "source": []
  }
 ],
 "metadata": {
  "kernelspec": {
   "display_name": "Python [default]",
   "language": "python",
   "name": "python3"
  },
  "language_info": {
   "codemirror_mode": {
    "name": "ipython",
    "version": 3
   },
   "file_extension": ".py",
   "mimetype": "text/x-python",
   "name": "python",
   "nbconvert_exporter": "python",
   "pygments_lexer": "ipython3",
   "version": "3.6.4"
  }
 },
 "nbformat": 4,
 "nbformat_minor": 2
}
