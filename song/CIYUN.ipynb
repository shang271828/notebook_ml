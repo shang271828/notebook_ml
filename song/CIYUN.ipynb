{
 "cells": [
  {
   "cell_type": "code",
   "execution_count": 1,
   "metadata": {},
   "outputs": [
    {
     "name": "stderr",
     "output_type": "stream",
     "text": [
      "Building prefix dict from the default dictionary ...\n",
      "Loading model from cache /tmp/jieba.cache\n",
      "Loading model cost 1.641 seconds.\n",
      "Prefix dict has been built succesfully.\n"
     ]
    },
    {
     "name": "stdout",
     "output_type": "stream",
     "text": [
      "Full Mode: 小猪/ 佩奇/ 的/ 天堂/ 在/ 这里\n"
     ]
    }
   ],
   "source": [
    "import jieba\n",
    "seg_list = jieba.cut(\"小猪佩奇的天堂在这里\", cut_all=True)\n",
    "print(\"Full Mode: \" + \"/ \".join(seg_list))  # 全模式"
   ]
  },
  {
   "cell_type": "code",
   "execution_count": 2,
   "metadata": {
    "ExecuteTime": {
     "end_time": "2018-05-18T03:12:49.741555Z",
     "start_time": "2018-05-18T03:12:48.141559Z"
    }
   },
   "outputs": [
    {
     "name": "stderr",
     "output_type": "stream",
     "text": [
      "Building prefix dict from the default dictionary ...\n",
      "Loading model from cache /tmp/jieba.cache\n",
      "Loading model cost 1.543 seconds.\n",
      "Prefix dict has been built succesfully.\n"
     ]
    },
    {
     "name": "stdout",
     "output_type": "stream",
     "text": [
      "哪些, 公司, 主营, 产品, 价格, 产品价格, 出现, 上涨\n"
     ]
    }
   ],
   "source": [
    "import jieba\n",
    "seg_list = jieba.cut_for_search(\"哪些公司主营产品价格出现上涨\")  # 搜索引擎模式\n",
    "print(\", \".join(seg_list))\n"
   ]
  },
  {
   "cell_type": "code",
   "execution_count": 3,
   "metadata": {},
   "outputs": [
    {
     "name": "stdout",
     "output_type": "stream",
     "text": [
      "Full Mode: 小猪/ 佩奇/ 的/ 哥哥\n"
     ]
    }
   ],
   "source": [
    "seg_list = jieba.cut(\"小猪佩奇的哥哥\", cut_all=False)\n",
    "print(\"Full Mode: \" + \"/ \".join(seg_list))  # 精确模式"
   ]
  },
  {
   "cell_type": "code",
   "execution_count": 4,
   "metadata": {},
   "outputs": [
    {
     "name": "stdout",
     "output_type": "stream",
     "text": [
      "小猪/n\n",
      "佩奇/nrt\n",
      "的/uj\n",
      "哥哥/ns\n"
     ]
    }
   ],
   "source": [
    "import jieba.posseg\n",
    "string = '小猪佩奇的哥哥'  \n",
    "seg_list = jieba.posseg.cut(string)  \n",
    "for seg in seg_list:\n",
    "    print(seg)"
   ]
  },
  {
   "cell_type": "code",
   "execution_count": 4,
   "metadata": {
    "ExecuteTime": {
     "end_time": "2018-05-18T03:17:47.699706Z",
     "start_time": "2018-05-18T03:17:47.557785Z"
    }
   },
   "outputs": [
    {
     "name": "stdout",
     "output_type": "stream",
     "text": [
      "轮椅\t2874\n",
      "控制系统\t2579\n",
      "脑机\t1959\n",
      "模块\t1762\n",
      "脑波\t1678\n",
      "智能\t1643\n",
      "传输\t1611\n",
      "控制卡\t1567\n",
      "运动\t1352\n",
      "电信号\t1238\n",
      "采集卡\t1175\n",
      "伪迹\t1175\n",
      "蓝牙\t1067\n",
      "信号\t1042\n",
      "滤波\t1014\n",
      "设计\t906\n",
      "控制算法\t866\n",
      "算法\t854\n",
      "接口\t854\n",
      "接口技术\t839\n",
      "4.0\t783\n",
      "进行\t733\n",
      "频段\t682\n",
      "检测\t674\n",
      "想象\t659\n",
      "软硬件\t657\n",
      "仿真\t612\n",
      "无线\t609\n",
      "搭建\t556\n",
      "硬件\t552\n",
      "存储\t543\n",
      "功能\t542\n",
      "集成\t537\n",
      "电机\t531\n",
      "本文\t501\n",
      "提取\t491\n",
      "系统\t487\n",
      "控制\t487\n",
      "软件\t482\n",
      "驱动\t463\n",
      "部分\t433\n",
      "研究\t425\n",
      "实验\t414\n",
      "分类号\t410\n",
      "自理能力\t397\n",
      "至微\t391\n",
      "NeuroSkyg\t391\n",
      "TGAM\t391\n",
      "ATMEGA328\t391\n",
      "ATMEGA16\t391\n",
      "单片机\t391\n",
      "Creative\t391\n",
      "Commons\t391\n",
      "特征提取\t391\n",
      "将切\t391\n",
      "比雪夫\t391\n",
      "PID\t391\n",
      "PC\t391\n",
      "板卡\t391\n",
      "MATLAB\t391\n",
      "71\t391\n",
      "19\t391\n",
      "55\t391\n",
      "TP273\t391\n",
      "框图\t383\n",
      "行动\t377\n",
      "参考文献\t377\n",
      "外围设备\t371\n",
      "满足要求\t369\n",
      "方案设计\t359\n",
      "处理\t354\n",
      "特点\t354\n",
      "总体方案\t354\n",
      "肌肉组织\t338\n",
      "采用\t337\n",
      "适用性\t333\n",
      "利用\t328\n",
      "中转站\t327\n",
      "滤波器\t326\n",
      "能力\t323\n",
      "伤残\t314\n",
      "数据\t313\n",
      "人工智能\t310\n",
      "推导\t306\n",
      "结果表明\t303\n",
      "障碍物\t301\n",
      "超声波\t300\n",
      "结尾\t297\n",
      "通路\t295\n",
      "联通\t295\n",
      "芯片\t295\n",
      "关键词\t291\n",
      "去除\t289\n",
      "摘要\t285\n",
      "具有\t284\n",
      "移植\t277\n",
      "电子设备\t276\n",
      "小车\t276\n",
      "选取\t275\n",
      "实时\t267\n"
     ]
    }
   ],
   "source": [
    "# coding:utf-8\n",
    "import jieba.analyse\n",
    "\n",
    "path = u'/data/wwwroot/default/notebook/song/摘要.txt'\n",
    "file_in = open(path, 'r')\n",
    "content = file_in.read()\n",
    "\n",
    "try:\n",
    "    jieba.analyse.set_stop_words('/data/dict/stopwords_cn.txt')\n",
    "    tags = jieba.analyse.extract_tags(content, topK=100, withWeight=True)\n",
    "    for v, n in tags:\n",
    "        #权重是小数，为了凑整，乘了一万\n",
    "        print(v + '\\t' + str(int(n * 10000)))\n",
    "\n",
    "finally:\n",
    "    file_in.close()"
   ]
  },
  {
   "cell_type": "code",
   "execution_count": null,
   "metadata": {},
   "outputs": [],
   "source": []
  }
 ],
 "metadata": {
  "kernelspec": {
   "display_name": "Python [conda env:anaconda3]",
   "language": "python",
   "name": "conda-env-anaconda3-py"
  },
  "language_info": {
   "codemirror_mode": {
    "name": "ipython",
    "version": 3
   },
   "file_extension": ".py",
   "mimetype": "text/x-python",
   "name": "python",
   "nbconvert_exporter": "python",
   "pygments_lexer": "ipython3",
   "version": "3.6.4"
  },
  "toc": {
   "base_numbering": 1,
   "nav_menu": {},
   "number_sections": true,
   "sideBar": true,
   "skip_h1_title": false,
   "title_cell": "Table of Contents",
   "title_sidebar": "Contents",
   "toc_cell": false,
   "toc_position": {},
   "toc_section_display": true,
   "toc_window_display": false
  }
 },
 "nbformat": 4,
 "nbformat_minor": 2
}
