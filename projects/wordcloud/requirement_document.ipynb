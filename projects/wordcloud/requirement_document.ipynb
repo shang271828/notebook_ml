{
 "cells": [
  {
   "cell_type": "markdown",
   "metadata": {},
   "source": [
    "# 词云项目需求文档-v1"
   ]
  },
  {
   "cell_type": "markdown",
   "metadata": {
    "ExecuteTime": {
     "end_time": "2018-05-18T03:37:28.298784Z",
     "start_time": "2018-05-18T03:37:28.270229Z"
    }
   },
   "source": [
    "<style>\n",
    "    table.dataintable {\n",
    "      margin-top:15px;\n",
    "      border-collapse:collapse;\n",
    "      border:1px solid #aaa;\n",
    "      width:100%;\n",
    "    }\n",
    "    table.dataintable th {\n",
    "      vertical-align:baseline;\n",
    "      padding:5px 15px 5px 6px;\n",
    "      background-color:#3F3F3F;\n",
    "      border:1px solid #3F3F3F;\n",
    "      text-align:center;\n",
    "      color:#fff;\n",
    "    }\n",
    "    table.dataintable td {\n",
    "      vertical-align:text-top;\n",
    "      padding:6px 15px 6px 6px;\n",
    "      border:1px solid #aaa;\n",
    "    }\n",
    "    table.dataintable tr:nth-child(odd) {\n",
    "      background-color:#F5F5F5;\n",
    "    }\n",
    "    table.dataintable tr:nth-child(even) {\n",
    "      background-color:#fff;\n",
    "    }\n",
    "</style>\n",
    "<table class=\"dataintable\">\n",
    "    <tr>\n",
    "      <th>编号 </th>\n",
    "      <th>功能点 </th>\n",
    "      <th>描述</th>\n",
    "      <th>备注 </th>\n",
    "    </tr>\n",
    "    <tr>\n",
    "      <td><i>1</i></td>\n",
    "      <td>文本输入框</td>\n",
    "      <td>显示文本输入区域，尺寸固定，与原型图一致。文本过长时显示滚动条</td>\n",
    "      <td></td>\n",
    "    </tr>\n",
    "    <tr>\n",
    "      <td><i>2</i></td>\n",
    "      <td>词云图生成按钮 </td>\n",
    "      <td>点击词云图生成按钮，调用词云接口，等待接口返回结果。若词云图片返回成功，获取词云图片地址。 </td>\n",
    "      <td> </td>\n",
    "    </tr>\n",
    "    <tr>\n",
    "      <td><i>3</i></td>\n",
    "      <td>词云图片显示</td>\n",
    "      <td>将获取到的词云图片显示出来，图片显示区尺寸固定，与原型图一致</td>\n",
    "      <td></td>\n",
    "    </tr>\n",
    "    <tr>\n",
    "      <td>4</td>\n",
    "      <td>顶部banner</td>\n",
    "      <td>顶部banner区显示文字信息 </td>\n",
    "      <td></td>\n",
    "     </tr>\n",
    "        <tr>\n",
    "      <td>5</td>\n",
    "      <td>底部banner</td>\n",
    "      <td>底部banner区显示文字信息</td>\n",
    "      <td></td>\n",
    "     </tr>\n",
    "        <tr>\n",
    "      <td>6</td>\n",
    "      <td>上传按钮</td>\n",
    "      <td>点击上传按钮，弹出上传框.用户选择文件后，调用上传接口，等待接口返回结果。若上传成功，显示上传成功字样</td>\n",
    "      <td></td>\n",
    "     </tr>\n",
    "</table>\n",
    "     "
   ]
  },
  {
   "cell_type": "code",
   "execution_count": null,
   "metadata": {},
   "outputs": [],
   "source": []
  }
 ],
 "metadata": {
  "celltoolbar": "Slideshow",
  "kernelspec": {
   "display_name": "Python [conda env:anaconda3]",
   "language": "python",
   "name": "conda-env-anaconda3-py"
  },
  "language_info": {
   "codemirror_mode": {
    "name": "ipython",
    "version": 3
   },
   "file_extension": ".py",
   "mimetype": "text/x-python",
   "name": "python",
   "nbconvert_exporter": "python",
   "pygments_lexer": "ipython3",
   "version": "3.6.4"
  },
  "toc": {
   "base_numbering": 1,
   "nav_menu": {},
   "number_sections": true,
   "sideBar": true,
   "skip_h1_title": false,
   "title_cell": "Table of Contents",
   "title_sidebar": "Contents",
   "toc_cell": false,
   "toc_position": {},
   "toc_section_display": true,
   "toc_window_display": false
  }
 },
 "nbformat": 4,
 "nbformat_minor": 2
}
