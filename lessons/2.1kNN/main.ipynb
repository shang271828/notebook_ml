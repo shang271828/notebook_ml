{
 "cells": [
  {
   "cell_type": "markdown",
   "metadata": {
    "toc": true
   },
   "source": [
    "<h1>Table of Contents<span class=\"tocSkip\"></span></h1>\n",
    "<div class=\"toc\"><ul class=\"toc-item\"><li><span><a href=\"#2.1.1-KNN-概述\" data-toc-modified-id=\"2.1.1-KNN-概述-1\"><span class=\"toc-item-num\">1&nbsp;&nbsp;</span>2.1.1 KNN 概述</a></span></li><li><span><a href=\"#2.1.2-kNN-算法场景举例\" data-toc-modified-id=\"2.1.2-kNN-算法场景举例-2\"><span class=\"toc-item-num\">2&nbsp;&nbsp;</span>2.1.2 kNN 算法场景举例</a></span></li><li><span><a href=\"#2.1.3-kNN-算法项目实践\" data-toc-modified-id=\"2.1.3-kNN-算法项目实践-3\"><span class=\"toc-item-num\">3&nbsp;&nbsp;</span>2.1.3 kNN 算法项目实践</a></span><ul class=\"toc-item\"><li><span><a href=\"#项目案例1:-优化约会网站的配对效果\" data-toc-modified-id=\"项目案例1:-优化约会网站的配对效果-3.1\"><span class=\"toc-item-num\">3.1&nbsp;&nbsp;</span>项目案例1: 优化约会网站的配对效果</a></span></li><li><span><a href=\"#项目案例1-代码分析\" data-toc-modified-id=\"项目案例1-代码分析-3.2\"><span class=\"toc-item-num\">3.2&nbsp;&nbsp;</span>项目案例1 代码分析</a></span><ul class=\"toc-item\"><li><span><a href=\"#加载类库\" data-toc-modified-id=\"加载类库-3.2.1\"><span class=\"toc-item-num\">3.2.1&nbsp;&nbsp;</span>加载类库</a></span></li><li><span><a href=\"#矩阵转换函数（加载特征数据，生成矩阵）\" data-toc-modified-id=\"矩阵转换函数（加载特征数据，生成矩阵）-3.2.2\"><span class=\"toc-item-num\">3.2.2&nbsp;&nbsp;</span>矩阵转换函数（加载特征数据，生成矩阵）</a></span></li><li><span><a href=\"#调用矩阵转换函数，加载数据文件，将数据转化为矩阵形式\" data-toc-modified-id=\"调用矩阵转换函数，加载数据文件，将数据转化为矩阵形式-3.2.3\"><span class=\"toc-item-num\">3.2.3&nbsp;&nbsp;</span>调用矩阵转换函数，加载数据文件，将数据转化为矩阵形式</a></span></li><li><span><a href=\"#使用-matplotlib生成散点图\" data-toc-modified-id=\"使用-matplotlib生成散点图-3.2.4\"><span class=\"toc-item-num\">3.2.4&nbsp;&nbsp;</span>使用 matplotlib生成散点图</a></span></li><li><span><a href=\"#归一化函数\" data-toc-modified-id=\"归一化函数-3.2.5\"><span class=\"toc-item-num\">3.2.5&nbsp;&nbsp;</span>归一化函数</a></span></li><li><span><a href=\"#调用归一化函数,-对特征矩阵进行归一化操作\" data-toc-modified-id=\"调用归一化函数,-对特征矩阵进行归一化操作-3.2.6\"><span class=\"toc-item-num\">3.2.6&nbsp;&nbsp;</span>调用归一化函数, 对特征矩阵进行归一化操作</a></span></li><li><span><a href=\"#样本容量m\" data-toc-modified-id=\"样本容量m-3.2.7\"><span class=\"toc-item-num\">3.2.7&nbsp;&nbsp;</span>样本容量m</a></span></li><li><span><a href=\"#将样本划分为测试集和训练集，比率为hoRatio\" data-toc-modified-id=\"将样本划分为测试集和训练集，比率为hoRatio-3.2.8\"><span class=\"toc-item-num\">3.2.8&nbsp;&nbsp;</span>将样本划分为测试集和训练集，比率为hoRatio</a></span></li><li><span><a href=\"#关键！KNN模型训练函数\" data-toc-modified-id=\"关键！KNN模型训练函数-3.2.9\"><span class=\"toc-item-num\">3.2.9&nbsp;&nbsp;</span>关键！KNN模型训练函数</a></span></li><li><span><a href=\"#加载模型，输出测试集的预测结果并评估\" data-toc-modified-id=\"加载模型，输出测试集的预测结果并评估-3.2.10\"><span class=\"toc-item-num\">3.2.10&nbsp;&nbsp;</span>加载模型，输出测试集的预测结果并评估</a></span></li><li><span><a href=\"#参数调优\" data-toc-modified-id=\"参数调优-3.2.11\"><span class=\"toc-item-num\">3.2.11&nbsp;&nbsp;</span>参数调优</a></span></li></ul></li><li><span><a href=\"#项目案例2：手写体数字识别\" data-toc-modified-id=\"项目案例2：手写体数字识别-3.3\"><span class=\"toc-item-num\">3.3&nbsp;&nbsp;</span>项目案例2：手写体数字识别</a></span></li><li><span><a href=\"#项目案例2：代码分析\" data-toc-modified-id=\"项目案例2：代码分析-3.4\"><span class=\"toc-item-num\">3.4&nbsp;&nbsp;</span>项目案例2：代码分析</a></span></li></ul></li></ul></div>"
   ]
  },
  {
   "cell_type": "markdown",
   "metadata": {},
   "source": [
    "# 2.1 k-近邻算法"
   ]
  },
  {
   "cell_type": "markdown",
   "metadata": {},
   "source": [
    "## 2.1.1 KNN 概述"
   ]
  },
  {
   "cell_type": "markdown",
   "metadata": {},
   "source": [
    "k-近邻（kNN, k-Nearest Neighbor）算法是一种基本的分类与回归方法。我们在这里只讨论 k-近邻算法在分类问题中的应用。"
   ]
  },
  {
   "cell_type": "markdown",
   "metadata": {},
   "source": [
    "所谓k近邻，就是k个最近的邻居的意思。其核心思想在于，任何一个样本都可以用距它最接近的k个样本来代表。"
   ]
  },
  {
   "cell_type": "markdown",
   "metadata": {},
   "source": [
    "**一句话总结：近朱者赤近墨者黑！**"
   ]
  },
  {
   "cell_type": "markdown",
   "metadata": {},
   "source": [
    "    优点：精度高、对异常值不敏感、无数据输入假定\n",
    "    缺点：计算复杂度高、空间复杂度高\n",
    "    适用数据范围：数值型和标称型"
   ]
  },
  {
   "cell_type": "markdown",
   "metadata": {},
   "source": [
    "k近邻算法的算法思路如下图所示："
   ]
  },
  {
   "cell_type": "markdown",
   "metadata": {},
   "source": [
    "<img src=\"http://121.40.249.2/notebook/lessons/2.1kNN/kNN_1.jpg\"\n",
    "style=\"width:200px;height:170px;float:left\">"
   ]
  },
  {
   "cell_type": "markdown",
   "metadata": {},
   "source": [
    "k近邻算法的输入为样本的特征向量，对应于特征空间的点；输出为样本的类别，可以取多种类别。\n",
    "\n",
    "k近邻算法假设给定一个训练数据集，其中的样本类别已知。分类时，对新的样本，根据其 k 个距离最近的训练样本的类别，通过**多数表决**的方式进行预测。\n",
    "\n",
    "k值的选择、距离的度量方式以及分类决策规则是k近邻算法的三个基本要素。\n",
    "\n",
    "\n",
    "\n"
   ]
  },
  {
   "cell_type": "markdown",
   "metadata": {},
   "source": [
    "    注意：k近邻算法不具有显式的学习过程！"
   ]
  },
  {
   "cell_type": "markdown",
   "metadata": {},
   "source": [
    "## 2.1.2 kNN 算法场景举例"
   ]
  },
  {
   "cell_type": "markdown",
   "metadata": {},
   "source": [
    "电影可以按照题材分类，那么如何区分 动作片 和 爱情片 呢？\n",
    "\n",
    "动作片：打斗次数更多\n",
    "\n",
    "爱情片：亲吻次数更多\n",
    "\n",
    "基于电影中的亲吻、打斗出现的次数，使用 k-近邻算法构造程序，就可以自动划分电影的题材类型。"
   ]
  },
  {
   "cell_type": "markdown",
   "metadata": {},
   "source": [
    "<img src=\"http://121.40.249.2/notebook/lessons/2.1kNN/kNN_2.png\"\n",
    "style=\"width:500px;height:350px;float:left\">"
   ]
  },
  {
   "cell_type": "markdown",
   "metadata": {},
   "source": [
    "现在根据上面我们得到的样本集中所有电影与未知电影的距离，按照距离递增排序，可以找到 k 个距离最近的电影。\n",
    "\n",
    "假定 k=3，则三个最靠近的电影依次是， He's Not Really into Dudes 、 Beautiful Woman 和 California Man。\n",
    "\n",
    "knn 算法按照距离最近的三部电影的类型，决定未知电影的类型，而这三部电影全是爱情片，因此我们判定未知电影是爱情片。"
   ]
  },
  {
   "cell_type": "markdown",
   "metadata": {},
   "source": [
    "## 2.1.3 kNN 算法项目实践"
   ]
  },
  {
   "cell_type": "markdown",
   "metadata": {},
   "source": [
    "**项目流程**：\n",
    "* 收集数据：任何方法\n",
    "* 准备数据：距离计算所需要的数值，最好是结构化的数据格式\n",
    "* 分析数据：任何方法\n",
    "* 训练算法：此步骤不适用于 k-近邻算法\n",
    "* 测试算法：计算错误率\n",
    "* 使用算法：输入样本数据和结构化的输出结果，然后运行 k-近邻算法判断输入数据分类属于哪个分类，最后对计算出的分类执行后续处理"
   ]
  },
  {
   "cell_type": "markdown",
   "metadata": {},
   "source": [
    "**kNN 算法伪代码：**\n",
    "\n",
    "对于每一个在数据集中的数据点：\n",
    "   * 计算目标的数据点（需要分类的数据点）与该数据点的距离\n",
    "   * 将距离排序：从小到大\n",
    "   * 选取前K个最短距离\n",
    "   * 选取这K个中最多的分类类别\n",
    "   * 返回该类别来作为目标数据点的预测值"
   ]
  },
  {
   "cell_type": "markdown",
   "metadata": {},
   "source": [
    "### 项目案例1: 优化约会网站的配对效果\n",
    "\n",
    "代码链接：http://121.40.249.2:8888/edit/lessons/2.1kNN/kNN.py\n",
    "\n",
    "数据链接：http://121.40.249.2:8888/edit/lessons/2.1kNN/datingTestSet2.txt\n",
    "\n",
    "\n",
    "海伦使用约会网站寻找约会对象。经过一段时间之后，她发现曾交往过三种类型的人:\n",
    "\n",
    "* 不喜欢的人\n",
    "* 魅力一般的人\n",
    "* 极具魅力的人\n",
    "\n",
    "她希望：\n",
    "\n",
    "* 工作日与魅力一般的人约会\n",
    "* 周末与极具魅力的人约会\n",
    "* 不喜欢的人则直接排除掉\n",
    "\n",
    "现在她收集到了一些约会网站未曾记录的数据信息，这更有助于匹配对象的归类。"
   ]
  },
  {
   "cell_type": "markdown",
   "metadata": {},
   "source": [
    "\n",
    "海伦把这些约会对象的数据存放在文本文件 [datingTestSet2.txt](http://121.40.249.2:8888/edit/lessons/2.1kNN/datingTestSet2.txt) 中，总共有 1000 行。\n",
    "\n",
    "海伦约会的对象主要包含以下 3 种特征：\n",
    "\n",
    "* 每年获得的飞行常客里程数\n",
    "* 玩视频游戏所耗时间百分比\n",
    "* 每周消费的冰淇淋公升数\n",
    "\n",
    "文本文件数据格式如下：\n",
    "\n",
    "    40920\t8.326976\t0.953952\t3\n",
    "    14488\t7.153469\t1.673904\t2\n",
    "    26052\t1.441871\t0.805124\t1\n",
    "    75136\t13.147394\t0.428964\t1\n",
    "    38344\t1.669788\t0.134296\t1"
   ]
  },
  {
   "cell_type": "markdown",
   "metadata": {},
   "source": [
    "    数据前三项是特征，第四项是类别或者说标签。\n",
    "    前三项特征分别是：每年获得的飞行常客里程数、玩视频游戏所耗时间百分比、每周消费的冰淇淋公升数。\n",
    "    第四项的1/2/3分别代表：\n",
    "    1. 不喜欢的人\n",
    "    2. 魅力一般的人\n",
    "    3. 极具魅力的人"
   ]
  },
  {
   "cell_type": "markdown",
   "metadata": {},
   "source": [
    "**目的 : 根据海伦收集的1000条约会对象的数据，预测未知约会对象的类型，从而帮助海伦进行约会决策**"
   ]
  },
  {
   "cell_type": "markdown",
   "metadata": {},
   "source": [
    "### 项目案例1 代码分析"
   ]
  },
  {
   "cell_type": "markdown",
   "metadata": {},
   "source": [
    "#### 加载类库"
   ]
  },
  {
   "cell_type": "code",
   "execution_count": 1,
   "metadata": {},
   "outputs": [],
   "source": [
    "# 科学计算包numpy\n",
    "from numpy import *\n",
    "# 运算符模块operator\n",
    "import operator\n",
    "# 操作系统相关模块os\n",
    "from os import listdir\n",
    "# 集合模块collections\n",
    "from collections import Counter\n"
   ]
  },
  {
   "cell_type": "markdown",
   "metadata": {},
   "source": [
    "#### 矩阵转换函数（加载特征数据，生成矩阵）"
   ]
  },
  {
   "cell_type": "code",
   "execution_count": 2,
   "metadata": {},
   "outputs": [],
   "source": [
    "def file2matrix(filename):\n",
    "    \"\"\"\n",
    "    导入训练数据\n",
    "    :param filename: 数据文件路径\n",
    "    :return: 数据矩阵returnMat和对应的类别classLabelVector\n",
    "    \"\"\"\n",
    "    fr = open(filename)\n",
    "    # 获得文件中的数据行的行数\n",
    "    numberOfLines = len(fr.readlines())\n",
    "    # 生成对应的空矩阵\n",
    "    # 例如：zeros(2，3)就是生成一个 2*3的矩阵，各个位置上全是 0 \n",
    "    returnMat = zeros((numberOfLines, 3))  # prepare matrix to return\n",
    "    classLabelVector = []  # prepare labels return\n",
    "    fr = open(filename)\n",
    "    index = 0\n",
    "    for line in fr.readlines():\n",
    "        # str.strip([chars]) --返回移除字符串头尾指定的字符生成的新字符串\n",
    "        line = line.strip()\n",
    "        # 以 '\\t' 切割字符串\n",
    "        listFromLine = line.split('\\t')\n",
    "        # 每列的属性数据\n",
    "        returnMat[index, :] = listFromLine[0:3]\n",
    "        # 每列的类别数据，就是 label 标签数据\n",
    "        classLabelVector.append(int(listFromLine[-1]))\n",
    "        index += 1\n",
    "    # 返回数据矩阵returnMat和对应的类别classLabelVector\n",
    "    return returnMat, classLabelVector\n",
    "\n"
   ]
  },
  {
   "cell_type": "markdown",
   "metadata": {},
   "source": [
    "#### 调用矩阵转换函数，加载数据文件，将数据转化为矩阵形式"
   ]
  },
  {
   "cell_type": "code",
   "execution_count": 3,
   "metadata": {},
   "outputs": [
    {
     "name": "stdout",
     "output_type": "stream",
     "text": [
      "特征矩阵 1000行3列：\n",
      "[[4.0920000e+04 8.3269760e+00 9.5395200e-01]\n",
      " [1.4488000e+04 7.1534690e+00 1.6739040e+00]\n",
      " [2.6052000e+04 1.4418710e+00 8.0512400e-01]\n",
      " ...\n",
      " [2.6575000e+04 1.0650102e+01 8.6662700e-01]\n",
      " [4.8111000e+04 9.1345280e+00 7.2804500e-01]\n",
      " [4.3757000e+04 7.8826010e+00 1.3324460e+00]]\n",
      "类别向量 1000行1列：\n",
      "[3, 2, 1, 1, 1, 1, 3, 3, 1, 3, 1, 1, 2, 1, 1, 1, 1, 1, 2, 3, 2, 1, 2, 3, 2, 3, 2, 3, 2, 1, 3, 1, 3, 1, 2, 1, 1, 2, 3, 3, 1, 2, 3, 3, 3, 1, 1, 1, 1, 2, 2, 1, 3, 2, 2, 2, 2, 3, 1, 2, 1, 2, 2, 2, 2, 2, 3, 2, 3, 1, 2, 3, 2, 2, 1, 3, 1, 1, 3, 3, 1, 2, 3, 1, 3, 1, 2, 2, 1, 1, 3, 3, 1, 2, 1, 3, 3, 2, 1, 1, 3, 1, 2, 3, 3, 2, 3, 3, 1, 2, 3, 2, 1, 3, 1, 2, 1, 1, 2, 3, 2, 3, 2, 3, 2, 1, 3, 3, 3, 1, 3, 2, 2, 3, 1, 3, 3, 3, 1, 3, 1, 1, 3, 3, 2, 3, 3, 1, 2, 3, 2, 2, 3, 3, 3, 1, 2, 2, 1, 1, 3, 2, 3, 3, 1, 2, 1, 3, 1, 2, 3, 2, 3, 1, 1, 1, 3, 2, 3, 1, 3, 2, 1, 3, 2, 2, 3, 2, 3, 2, 1, 1, 3, 1, 3, 2, 2, 2, 3, 2, 2, 1, 2, 2, 3, 1, 3, 3, 2, 1, 1, 1, 2, 1, 3, 3, 3, 3, 2, 1, 1, 1, 2, 3, 2, 1, 3, 1, 3, 2, 2, 3, 1, 3, 1, 1, 2, 1, 2, 2, 1, 3, 1, 3, 2, 3, 1, 2, 3, 1, 1, 1, 1, 2, 3, 2, 2, 3, 1, 2, 1, 1, 1, 3, 3, 2, 1, 1, 1, 2, 2, 3, 1, 1, 1, 2, 1, 1, 2, 1, 1, 1, 2, 2, 3, 2, 3, 3, 3, 3, 1, 2, 3, 1, 1, 1, 3, 1, 3, 2, 2, 1, 3, 1, 3, 2, 2, 1, 2, 2, 3, 1, 3, 2, 1, 1, 3, 3, 2, 3, 3, 2, 3, 1, 3, 1, 3, 3, 1, 3, 2, 1, 3, 1, 3, 2, 1, 2, 2, 1, 3, 1, 1, 3, 3, 2, 2, 3, 1, 2, 3, 3, 2, 2, 1, 1, 1, 1, 3, 2, 1, 1, 3, 2, 1, 1, 3, 3, 3, 2, 3, 2, 1, 1, 1, 1, 1, 3, 2, 2, 1, 2, 1, 3, 2, 1, 3, 2, 1, 3, 1, 1, 3, 3, 3, 3, 2, 1, 1, 2, 1, 3, 3, 2, 1, 2, 3, 2, 1, 2, 2, 2, 1, 1, 3, 1, 1, 2, 3, 1, 1, 2, 3, 1, 3, 1, 1, 2, 2, 1, 2, 2, 2, 3, 1, 1, 1, 3, 1, 3, 1, 3, 3, 1, 1, 1, 3, 2, 3, 3, 2, 2, 1, 1, 1, 2, 1, 2, 2, 3, 3, 3, 1, 1, 3, 3, 2, 3, 3, 2, 3, 3, 3, 2, 3, 3, 1, 2, 3, 2, 1, 1, 1, 1, 3, 3, 3, 3, 2, 1, 1, 1, 1, 3, 1, 1, 2, 1, 1, 2, 3, 2, 1, 2, 2, 2, 3, 2, 1, 3, 2, 3, 2, 3, 2, 1, 1, 2, 3, 1, 3, 3, 3, 1, 2, 1, 2, 2, 1, 2, 2, 2, 2, 2, 3, 2, 1, 3, 3, 2, 2, 2, 3, 1, 2, 1, 1, 3, 2, 3, 2, 3, 2, 3, 3, 2, 2, 1, 3, 1, 2, 1, 3, 1, 1, 1, 3, 1, 1, 3, 3, 2, 2, 1, 3, 1, 1, 3, 2, 3, 1, 1, 3, 1, 3, 3, 1, 2, 3, 1, 3, 1, 1, 2, 1, 3, 1, 1, 1, 1, 2, 1, 3, 1, 2, 1, 3, 1, 3, 1, 1, 2, 2, 2, 3, 2, 2, 1, 2, 3, 3, 2, 3, 3, 3, 2, 3, 3, 1, 3, 2, 3, 2, 1, 2, 1, 1, 1, 2, 3, 2, 2, 1, 2, 2, 1, 3, 1, 3, 3, 3, 2, 2, 3, 3, 1, 2, 2, 2, 3, 1, 2, 1, 3, 1, 2, 3, 1, 1, 1, 2, 2, 3, 1, 3, 1, 1, 3, 1, 2, 3, 1, 2, 3, 1, 2, 3, 2, 2, 2, 3, 1, 3, 1, 2, 3, 2, 2, 3, 1, 2, 3, 2, 3, 1, 2, 2, 3, 1, 1, 1, 2, 2, 1, 1, 2, 1, 2, 1, 2, 3, 2, 1, 3, 3, 3, 1, 1, 3, 1, 2, 3, 3, 2, 2, 2, 1, 2, 3, 2, 2, 3, 2, 2, 2, 3, 3, 2, 1, 3, 2, 1, 3, 3, 1, 2, 3, 2, 1, 3, 3, 3, 1, 2, 2, 2, 3, 2, 3, 3, 1, 2, 1, 1, 2, 1, 3, 1, 2, 2, 1, 3, 2, 1, 3, 3, 2, 2, 2, 1, 2, 2, 1, 3, 1, 3, 1, 3, 3, 1, 1, 2, 3, 2, 2, 3, 1, 1, 1, 1, 3, 2, 2, 1, 3, 1, 2, 3, 1, 3, 1, 3, 1, 1, 3, 2, 3, 1, 1, 3, 3, 3, 3, 1, 3, 2, 2, 1, 1, 3, 3, 2, 2, 2, 1, 2, 1, 2, 1, 3, 2, 1, 2, 2, 3, 1, 2, 2, 2, 3, 2, 1, 2, 1, 2, 3, 3, 2, 3, 1, 1, 3, 3, 1, 2, 2, 2, 2, 2, 2, 1, 3, 3, 3, 3, 3, 1, 1, 3, 2, 1, 2, 1, 2, 2, 3, 2, 2, 2, 3, 1, 2, 1, 2, 2, 1, 1, 2, 3, 3, 1, 1, 1, 1, 3, 3, 3, 3, 3, 3, 1, 3, 3, 2, 3, 2, 3, 3, 2, 2, 1, 1, 1, 3, 3, 1, 1, 1, 3, 3, 2, 1, 2, 1, 1, 2, 2, 1, 1, 1, 3, 1, 1, 2, 3, 2, 2, 1, 3, 1, 2, 3, 1, 2, 2, 2, 2, 3, 2, 3, 3, 1, 2, 1, 2, 3, 1, 3, 2, 2, 2, 2, 2, 2, 2, 2, 2, 2, 2, 2, 3, 2, 2, 2, 2, 2, 1, 3, 3, 3]\n"
     ]
    }
   ],
   "source": [
    "datingDataMat, datingLabels = file2matrix('datingTestSet2.txt')  # load data setfrom file\n",
    "print(\"特征矩阵 1000行3列：\")\n",
    "print(datingDataMat)\n",
    "print(\"类别向量 1000行1列：\")\n",
    "print(datingLabels)"
   ]
  },
  {
   "cell_type": "markdown",
   "metadata": {},
   "source": [
    "#### 使用 matplotlib生成散点图"
   ]
  },
  {
   "cell_type": "code",
   "execution_count": 29,
   "metadata": {},
   "outputs": [
    {
     "data": {
      "image/png": "[encoded data removed]",
      "text/plain": [
       "<Figure size 432x288 with 1 Axes>"
      ]
     },
     "metadata": {},
     "output_type": "display_data"
    }
   ],
   "source": [
    "import matplotlib\n",
    "import matplotlib.pyplot as plt\n",
    "fig = plt.figure()\n",
    "ax = fig.add_subplot(111)\n",
    "ax.scatter(datingDataMat[:, 0], datingDataMat[:, 1], 15.0*array(datingLabels), 15.0*array(datingLabels))\n",
    "plt.show()"
   ]
  },
  {
   "cell_type": "markdown",
   "metadata": {},
   "source": [
    "#### 归一化函数"
   ]
  },
  {
   "cell_type": "code",
   "execution_count": 5,
   "metadata": {},
   "outputs": [],
   "source": [
    "\n",
    "def autoNorm(dataSet):\n",
    "    \"\"\"\n",
    "    归一化特征值，消除属性之间量级不同导致的影响\n",
    "    :param dataSet: 数据集\n",
    "    :return: 归一化后的数据集normDataSet,ranges和minVals即最小值与范围，并没有用到\n",
    "    归一化公式：\n",
    "        Y = (X-Xmin)/(Xmax-Xmin)\n",
    "        其中的 min 和 max 分别是数据集中的最小特征值和最大特征值。该函数可以自动将数字特征值转化为0到1的区间。\n",
    "    \"\"\"\n",
    "    # 计算每种属性的最大值、最小值、范围\n",
    "    minVals = dataSet.min(0)\n",
    "    maxVals = dataSet.max(0)\n",
    "    # 极差\n",
    "    ranges = maxVals - minVals\n",
    "    # -------第一种实现方式---start-------------------------\n",
    "    normDataSet = zeros(shape(dataSet))\n",
    "    m = dataSet.shape[0]\n",
    "    # 生成与最小值之差组成的矩阵\n",
    "    normDataSet = dataSet - tile(minVals, (m, 1))\n",
    "    # 将最小值之差除以范围组成矩阵\n",
    "    normDataSet = normDataSet / tile(ranges, (m, 1))  # element wise divide\n",
    "    # -------第一种实现方式---end---------------------------------------------\n",
    "    \n",
    "    # # -------第二种实现方式---start---------------------------------------\n",
    "    # norm_dataset = (dataset - minvalue) / ranges\n",
    "    # # -------第二种实现方式---end---------------------------------------------\n",
    "    return normDataSet, ranges, minVals\n",
    "\n"
   ]
  },
  {
   "cell_type": "markdown",
   "metadata": {},
   "source": [
    "#### 调用归一化函数, 对特征矩阵进行归一化操作"
   ]
  },
  {
   "cell_type": "code",
   "execution_count": 6,
   "metadata": {},
   "outputs": [
    {
     "name": "stdout",
     "output_type": "stream",
     "text": [
      "[[0.44832535 0.39805139 0.56233353]\n",
      " [0.15873259 0.34195467 0.98724416]\n",
      " [0.28542943 0.06892523 0.47449629]\n",
      " ...\n",
      " [0.29115949 0.50910294 0.51079493]\n",
      " [0.52711097 0.43665451 0.4290048 ]\n",
      " [0.47940793 0.3768091  0.78571804]]\n",
      "[9.1273000e+04 2.0919349e+01 1.6943610e+00]\n",
      "[0.       0.       0.001156]\n"
     ]
    }
   ],
   "source": [
    "normMat, ranges, minVals = autoNorm(datingDataMat)\n",
    "print(normMat)\n",
    "print(ranges)\n",
    "print(minVals)"
   ]
  },
  {
   "cell_type": "markdown",
   "metadata": {},
   "source": [
    "#### 样本容量m"
   ]
  },
  {
   "cell_type": "code",
   "execution_count": 7,
   "metadata": {},
   "outputs": [
    {
     "name": "stdout",
     "output_type": "stream",
     "text": [
      "样本容量：1000\n"
     ]
    }
   ],
   "source": [
    "m = normMat.shape[0]\n",
    "print(\"样本容量：{}\".format(m))"
   ]
  },
  {
   "cell_type": "markdown",
   "metadata": {},
   "source": [
    "#### 将样本划分为测试集和训练集，比率为hoRatio"
   ]
  },
  {
   "cell_type": "code",
   "execution_count": 8,
   "metadata": {},
   "outputs": [
    {
     "name": "stdout",
     "output_type": "stream",
     "text": [
      "测试集样本数：300\n",
      "训练集样本数：700\n",
      "300\n",
      "700\n"
     ]
    }
   ],
   "source": [
    "hoRatio = 0.3\n",
    "numTestVecs = int(m * hoRatio)\n",
    "numTrainVecs = int(m * (1-hoRatio))\n",
    "print(\"测试集样本数：{}\".format(numTestVecs))\n",
    "print(\"训练集样本数：{}\".format(numTrainVecs))\n",
    "\n",
    "normTestMat = normMat[0:numTestVecs,:]\n",
    "normTrainMat = normMat[numTestVecs:m,:]\n",
    "TestLabels = datingLabels[0:numTestVecs]\n",
    "TrainLabels = datingLabels[numTestVecs:m]\n",
    "print(normTestMat.shape[0])\n",
    "print(normTrainMat.shape[0])"
   ]
  },
  {
   "cell_type": "code",
   "execution_count": 12,
   "metadata": {},
   "outputs": [
    {
     "data": {
      "image/png": "[encoded data removed]",
      "text/plain": [
       "<Figure size 432x288 with 1 Axes>"
      ]
     },
     "metadata": {},
     "output_type": "display_data"
    }
   ],
   "source": [
    "import matplotlib\n",
    "import matplotlib.pyplot as plt\n",
    "fig = plt.figure()\n",
    "ax = fig.add_subplot(111)\n",
    "ax.scatter(normTrainMat[:, 0], normTrainMat[:, 1], 15.0*array(TrainLabels), 15.0*array(TrainLabels))\n",
    "plt.show()"
   ]
  },
  {
   "cell_type": "markdown",
   "metadata": {},
   "source": [
    "#### 关键！KNN模型训练函数"
   ]
  },
  {
   "cell_type": "code",
   "execution_count": 13,
   "metadata": {},
   "outputs": [],
   "source": [
    "def classify0(inX, dataSet, labels, k):\n",
    "    \"\"\"\n",
    "    inx[1,2,3]\n",
    "    DS=[[1,2,3],[1,2,0]]\n",
    "    inX: 待分类的输入向量\n",
    "    dataSet: 输入的训练样本集\n",
    "    labels: 训练样本集的标签向量\n",
    "    k: 选择最近邻居的数目\n",
    "    注意：labels元素数目和dataSet行数相同；\n",
    "    程序使用欧式距离公式.\n",
    "    \"\"\"\n",
    "\n",
    "    # -----------实现 classify() 方法的第一种方式----------------------------------------------------------------------------------------------------------------------------\n",
    "    # 1. 距离计算\n",
    "    dataSetSize = dataSet.shape[0]\n",
    "    # tile生成和训练样本对应的矩阵，并与训练样本求差\n",
    "    \"\"\"\n",
    "    tile: 列-3表示复制的行数， 行-1／2表示对inx的重复的次数\n",
    "    In [8]: tile(inx, (3, 1))\n",
    "    Out[8]:\n",
    "    array([[1, 2, 3],\n",
    "        [1, 2, 3],\n",
    "        [1, 2, 3]])\n",
    "    In [9]: tile(inx, (3, 2))\n",
    "    Out[9]:\n",
    "    array([[1, 2, 3, 1, 2, 3],\n",
    "        [1, 2, 3, 1, 2, 3],\n",
    "        [1, 2, 3, 1, 2, 3]])\n",
    "    \"\"\"\n",
    "    diffMat = tile(inX, (dataSetSize, 1)) - dataSet\n",
    "    \"\"\"\n",
    "    欧氏距离： 点到点之间的距离\n",
    "       第一行： 同一个点 到 dataSet的第一个点的距离。\n",
    "       第二行： 同一个点 到 dataSet的第二个点的距离。\n",
    "       ...\n",
    "       第N行： 同一个点 到 dataSet的第N个点的距离。\n",
    "    [[1,2,3],[1,2,3]]-[[1,2,3],[1,2,0]]\n",
    "    (A1-A2)^2+(B1-B2)^2+(c1-c2)^2\n",
    "    \"\"\"\n",
    "    # 取平方\n",
    "    sqDiffMat = diffMat ** 2\n",
    "    # 将矩阵的每一行相加\n",
    "    sqDistances = sqDiffMat.sum(axis=1)\n",
    "    # 开方\n",
    "    distances = sqDistances ** 0.5\n",
    "    # 根据距离排序从小到大的排序，返回对应的索引位置\n",
    "    # argsort() 是将x中的元素从小到大排列，提取其对应的index（索引），然后输出到y。\n",
    "    # 例如：y=array([3,0,2,1,4,5]) 则，x[3]=-1最小，所以y[0]=3;x[5]=9最大，所以y[5]=5。\n",
    "    # print 'distances=', distances\n",
    "    sortedDistIndicies = distances.argsort()\n",
    "    # print 'distances.argsort()=', sortedDistIndicies\n",
    "\n",
    "    # 2. 选择距离最小的k个点\n",
    "    classCount = {}\n",
    "    for i in range(k):\n",
    "        # 找到该样本的类型\n",
    "        voteIlabel = labels[sortedDistIndicies[i]]\n",
    "        # 在字典中将该类型加一\n",
    "        # 字典的get方法\n",
    "        # 如：list.get(k,d) 其中 get相当于一条if...else...语句,参数k在字典中，字典将返回list[k];如果参数k不在字典中则返回参数d,如果K在字典中则返回k对应的value值\n",
    "        # l = {5:2,3:4}\n",
    "        # print l.get(3,0)返回的值是4；\n",
    "        # Print l.get（1,0）返回值是0；\n",
    "        classCount[voteIlabel] = classCount.get(voteIlabel, 0) + 1\n",
    "    # 3. 排序并返回出现最多的那个类型\n",
    "    # 字典的 items() 方法，以列表返回可遍历的(键，值)元组数组。\n",
    "    # 例如：dict = {'Name': 'Zara', 'Age': 7}   print \"Value : %s\" %  dict.items()   Value : [('Age', 7), ('Name', 'Zara')]\n",
    "    # sorted 中的第2个参数 key=operator.itemgetter(1) 这个参数的意思是先比较第几个元素\n",
    "    # 例如：a=[('b',2),('a',1),('c',0)]  b=sorted(a,key=operator.itemgetter(1)) >>>b=[('c',0),('a',1),('b',2)] 可以看到排序是按照后边的0,1,2进行排序的，而不是a,b,c\n",
    "    # b=sorted(a,key=operator.itemgetter(0)) >>>b=[('a',1),('b',2),('c',0)] 这次比较的是前边的a,b,c而不是0,1,2\n",
    "    # b=sorted(a,key=opertator.itemgetter(1,0)) >>>b=[('c',0),('a',1),('b',2)] 这个是先比较第2个元素，然后对第一个元素进行排序，形成多级排序。\n",
    "    sortedClassCount = sorted(classCount.items(), key=operator.itemgetter(1), reverse=True)\n",
    "    return sortedClassCount[0][0]\n",
    "    \n"
   ]
  },
  {
   "cell_type": "code",
   "execution_count": 18,
   "metadata": {},
   "outputs": [],
   "source": [
    "def classify1(inX, dataSet, labels, k):\n",
    "    # ------------------------------------------------------------------------------------------------------------------------------------------\n",
    "    # 实现 classify() 方法的第二种方式\n",
    "    \"\"\"\n",
    "    1. 计算距离\n",
    "        欧氏距离： 点到点之间的距离\n",
    "       第一行： 同一个点 到 dataSet的第一个点的距离。\n",
    "       第二行： 同一个点 到 dataSet的第二个点的距离。\n",
    "       ...\n",
    "       第N行： 同一个点 到 dataSet的第N个点的距离。\n",
    "    [[1,2,3],[1,2,3]]-[[1,2,3],[1,2,0]]\n",
    "    (A1-A2)^2+(B1-B2)^2+(c1-c2)^2\n",
    "        inx - dataset 使用了numpy broadcasting，见 https://docs.scipy.org/doc/numpy-1.13.0/user/basics.broadcasting.html\n",
    "    np.sum() 函数的使用见 https://docs.scipy.org/doc/numpy-1.13.0/reference/generated/numpy.sum.html\n",
    "    \"\"\"\n",
    "    dist = np.sum((inX - dataSet)**2, axis=1)**0.5\n",
    "    \"\"\"\n",
    "    2. k个最近的标签\n",
    "        对距离排序使用numpy中的argsort函数， 见 https://docs.scipy.org/doc/numpy-1.13.0/reference/generated/numpy.sort.html#numpy.sort\n",
    "    函数返回的是索引，因此取前k个索引使用[0 : k]\n",
    "    将这k个标签存在列表k_labels中\n",
    "    \"\"\"\n",
    "    k_labels = [labels[index] for index in dist.argsort()[0 : k]]\n",
    "    \"\"\"\n",
    "    3. 出现次数最多的标签即为最终类别\n",
    "        使用collections.Counter可以统计各个标签的出现次数，most_common返回出现次数最多的标签tuple，例如[('lable1', 2)]，因此[0][0]可以取出标签值\n",
    "    \"\"\"\n",
    "    label = Counter(k_labels).most_common(1)[0][0]\n",
    "    return label"
   ]
  },
  {
   "cell_type": "markdown",
   "metadata": {},
   "source": [
    "#### 加载模型，输出测试集的预测结果并评估"
   ]
  },
  {
   "cell_type": "code",
   "execution_count": 21,
   "metadata": {},
   "outputs": [
    {
     "name": "stdout",
     "output_type": "stream",
     "text": [
      "算法预测结果: 3, 真实结果: 3\n",
      "算法预测结果: 2, 真实结果: 2\n",
      "算法预测结果: 1, 真实结果: 1\n",
      "算法预测结果: 1, 真实结果: 1\n",
      "算法预测结果: 1, 真实结果: 1\n",
      "算法预测结果: 1, 真实结果: 1\n",
      "算法预测结果: 3, 真实结果: 3\n",
      "算法预测结果: 3, 真实结果: 3\n",
      "算法预测结果: 1, 真实结果: 1\n",
      "算法预测结果: 3, 真实结果: 3\n",
      "算法预测结果: 1, 真实结果: 1\n",
      "算法预测结果: 1, 真实结果: 1\n",
      "算法预测结果: 2, 真实结果: 2\n",
      "算法预测结果: 1, 真实结果: 1\n",
      "算法预测结果: 1, 真实结果: 1\n",
      "算法预测结果: 1, 真实结果: 1\n",
      "算法预测结果: 1, 真实结果: 1\n",
      "算法预测结果: 1, 真实结果: 1\n",
      "算法预测结果: 2, 真实结果: 2\n",
      "算法预测结果: 3, 真实结果: 3\n",
      "算法预测结果: 2, 真实结果: 2\n",
      "算法预测结果: 1, 真实结果: 1\n",
      "算法预测结果: 1, 真实结果: 2\n",
      "算法预测结果: 3, 真实结果: 3\n",
      "算法预测结果: 2, 真实结果: 2\n",
      "算法预测结果: 3, 真实结果: 3\n",
      "算法预测结果: 2, 真实结果: 2\n",
      "算法预测结果: 3, 真实结果: 3\n",
      "算法预测结果: 2, 真实结果: 2\n",
      "算法预测结果: 1, 真实结果: 1\n",
      "算法预测结果: 3, 真实结果: 3\n",
      "算法预测结果: 1, 真实结果: 1\n",
      "算法预测结果: 2, 真实结果: 3\n",
      "算法预测结果: 1, 真实结果: 1\n",
      "算法预测结果: 3, 真实结果: 2\n",
      "算法预测结果: 1, 真实结果: 1\n",
      "算法预测结果: 1, 真实结果: 1\n",
      "算法预测结果: 2, 真实结果: 2\n",
      "算法预测结果: 3, 真实结果: 3\n",
      "算法预测结果: 3, 真实结果: 3\n",
      "算法预测结果: 1, 真实结果: 1\n",
      "算法预测结果: 2, 真实结果: 2\n",
      "算法预测结果: 3, 真实结果: 3\n",
      "算法预测结果: 3, 真实结果: 3\n",
      "算法预测结果: 3, 真实结果: 3\n",
      "算法预测结果: 1, 真实结果: 1\n",
      "算法预测结果: 1, 真实结果: 1\n",
      "算法预测结果: 1, 真实结果: 1\n",
      "算法预测结果: 1, 真实结果: 1\n",
      "算法预测结果: 2, 真实结果: 2\n",
      "算法预测结果: 2, 真实结果: 2\n",
      "算法预测结果: 1, 真实结果: 1\n",
      "算法预测结果: 3, 真实结果: 3\n",
      "算法预测结果: 2, 真实结果: 2\n",
      "算法预测结果: 2, 真实结果: 2\n",
      "算法预测结果: 2, 真实结果: 2\n",
      "算法预测结果: 2, 真实结果: 2\n",
      "算法预测结果: 3, 真实结果: 3\n",
      "算法预测结果: 1, 真实结果: 1\n",
      "算法预测结果: 2, 真实结果: 2\n",
      "算法预测结果: 1, 真实结果: 1\n",
      "算法预测结果: 2, 真实结果: 2\n",
      "算法预测结果: 2, 真实结果: 2\n",
      "算法预测结果: 2, 真实结果: 2\n",
      "算法预测结果: 2, 真实结果: 2\n",
      "算法预测结果: 2, 真实结果: 2\n",
      "算法预测结果: 3, 真实结果: 3\n",
      "算法预测结果: 2, 真实结果: 2\n",
      "算法预测结果: 3, 真实结果: 3\n",
      "算法预测结果: 1, 真实结果: 1\n",
      "算法预测结果: 2, 真实结果: 2\n",
      "算法预测结果: 3, 真实结果: 3\n",
      "算法预测结果: 2, 真实结果: 2\n",
      "算法预测结果: 2, 真实结果: 2\n",
      "算法预测结果: 3, 真实结果: 1\n",
      "算法预测结果: 3, 真实结果: 3\n",
      "算法预测结果: 1, 真实结果: 1\n",
      "算法预测结果: 1, 真实结果: 1\n",
      "算法预测结果: 3, 真实结果: 3\n",
      "算法预测结果: 3, 真实结果: 3\n",
      "算法预测结果: 1, 真实结果: 1\n",
      "算法预测结果: 2, 真实结果: 2\n",
      "算法预测结果: 3, 真实结果: 3\n",
      "算法预测结果: 1, 真实结果: 1\n",
      "算法预测结果: 3, 真实结果: 3\n",
      "算法预测结果: 1, 真实结果: 1\n",
      "算法预测结果: 2, 真实结果: 2\n",
      "算法预测结果: 2, 真实结果: 2\n",
      "算法预测结果: 1, 真实结果: 1\n",
      "算法预测结果: 1, 真实结果: 1\n",
      "算法预测结果: 3, 真实结果: 3\n",
      "算法预测结果: 2, 真实结果: 3\n",
      "算法预测结果: 1, 真实结果: 1\n",
      "算法预测结果: 2, 真实结果: 2\n",
      "算法预测结果: 1, 真实结果: 1\n",
      "算法预测结果: 3, 真实结果: 3\n",
      "算法预测结果: 3, 真实结果: 3\n",
      "算法预测结果: 2, 真实结果: 2\n",
      "算法预测结果: 2, 真实结果: 1\n",
      "算法预测结果: 1, 真实结果: 1\n",
      "算法预测结果: 3, 真实结果: 3\n",
      "算法预测结果: 3, 真实结果: 1\n",
      "算法预测结果: 2, 真实结果: 2\n",
      "算法预测结果: 3, 真实结果: 3\n",
      "算法预测结果: 3, 真实结果: 3\n",
      "算法预测结果: 2, 真实结果: 2\n",
      "算法预测结果: 3, 真实结果: 3\n",
      "算法预测结果: 3, 真实结果: 3\n",
      "算法预测结果: 1, 真实结果: 1\n",
      "算法预测结果: 2, 真实结果: 2\n",
      "算法预测结果: 2, 真实结果: 3\n",
      "算法预测结果: 2, 真实结果: 2\n",
      "算法预测结果: 1, 真实结果: 1\n",
      "算法预测结果: 3, 真实结果: 3\n",
      "算法预测结果: 1, 真实结果: 1\n",
      "算法预测结果: 2, 真实结果: 2\n",
      "算法预测结果: 1, 真实结果: 1\n",
      "算法预测结果: 1, 真实结果: 1\n",
      "算法预测结果: 2, 真实结果: 2\n",
      "算法预测结果: 3, 真实结果: 3\n",
      "算法预测结果: 2, 真实结果: 2\n",
      "算法预测结果: 3, 真实结果: 3\n",
      "算法预测结果: 2, 真实结果: 2\n",
      "算法预测结果: 3, 真实结果: 3\n",
      "算法预测结果: 2, 真实结果: 2\n",
      "算法预测结果: 1, 真实结果: 1\n",
      "算法预测结果: 3, 真实结果: 3\n",
      "算法预测结果: 3, 真实结果: 3\n",
      "算法预测结果: 3, 真实结果: 3\n",
      "算法预测结果: 1, 真实结果: 1\n",
      "算法预测结果: 3, 真实结果: 3\n",
      "算法预测结果: 2, 真实结果: 2\n",
      "算法预测结果: 2, 真实结果: 2\n",
      "算法预测结果: 3, 真实结果: 3\n",
      "算法预测结果: 1, 真实结果: 1\n",
      "算法预测结果: 3, 真实结果: 3\n",
      "算法预测结果: 3, 真实结果: 3\n",
      "算法预测结果: 3, 真实结果: 3\n",
      "算法预测结果: 1, 真实结果: 1\n",
      "算法预测结果: 3, 真实结果: 3\n",
      "算法预测结果: 1, 真实结果: 1\n",
      "算法预测结果: 1, 真实结果: 1\n",
      "算法预测结果: 3, 真实结果: 3\n",
      "算法预测结果: 3, 真实结果: 3\n",
      "算法预测结果: 2, 真实结果: 2\n",
      "算法预测结果: 3, 真实结果: 3\n",
      "算法预测结果: 3, 真实结果: 3\n",
      "算法预测结果: 1, 真实结果: 1\n",
      "算法预测结果: 2, 真实结果: 2\n",
      "算法预测结果: 3, 真实结果: 3\n",
      "算法预测结果: 2, 真实结果: 2\n",
      "算法预测结果: 2, 真实结果: 2\n",
      "算法预测结果: 3, 真实结果: 3\n",
      "算法预测结果: 3, 真实结果: 3\n",
      "算法预测结果: 3, 真实结果: 3\n",
      "算法预测结果: 1, 真实结果: 1\n",
      "算法预测结果: 2, 真实结果: 2\n",
      "算法预测结果: 2, 真实结果: 2\n",
      "算法预测结果: 1, 真实结果: 1\n",
      "算法预测结果: 1, 真实结果: 1\n",
      "算法预测结果: 3, 真实结果: 3\n",
      "算法预测结果: 2, 真实结果: 2\n",
      "算法预测结果: 2, 真实结果: 3\n",
      "算法预测结果: 3, 真实结果: 3\n",
      "算法预测结果: 1, 真实结果: 1\n",
      "算法预测结果: 2, 真实结果: 2\n",
      "算法预测结果: 1, 真实结果: 1\n",
      "算法预测结果: 3, 真实结果: 3\n",
      "算法预测结果: 1, 真实结果: 1\n",
      "算法预测结果: 2, 真实结果: 2\n",
      "算法预测结果: 3, 真实结果: 3\n",
      "算法预测结果: 2, 真实结果: 2\n",
      "算法预测结果: 3, 真实结果: 3\n",
      "算法预测结果: 1, 真实结果: 1\n",
      "算法预测结果: 3, 真实结果: 1\n",
      "算法预测结果: 3, 真实结果: 1\n",
      "算法预测结果: 3, 真实结果: 3\n",
      "算法预测结果: 2, 真实结果: 2\n",
      "算法预测结果: 3, 真实结果: 3\n",
      "算法预测结果: 1, 真实结果: 1\n",
      "算法预测结果: 3, 真实结果: 3\n",
      "算法预测结果: 2, 真实结果: 2\n",
      "算法预测结果: 3, 真实结果: 1\n",
      "算法预测结果: 3, 真实结果: 3\n",
      "算法预测结果: 2, 真实结果: 2\n",
      "算法预测结果: 2, 真实结果: 2\n",
      "算法预测结果: 3, 真实结果: 3\n",
      "算法预测结果: 2, 真实结果: 2\n",
      "算法预测结果: 3, 真实结果: 3\n",
      "算法预测结果: 2, 真实结果: 2\n",
      "算法预测结果: 1, 真实结果: 1\n",
      "算法预测结果: 3, 真实结果: 1\n",
      "算法预测结果: 3, 真实结果: 3\n",
      "算法预测结果: 1, 真实结果: 1\n",
      "算法预测结果: 2, 真实结果: 3\n",
      "算法预测结果: 2, 真实结果: 2\n",
      "算法预测结果: 2, 真实结果: 2\n",
      "算法预测结果: 2, 真实结果: 2\n",
      "算法预测结果: 3, 真实结果: 3\n",
      "算法预测结果: 2, 真实结果: 2\n",
      "算法预测结果: 2, 真实结果: 2\n",
      "算法预测结果: 1, 真实结果: 1\n",
      "算法预测结果: 2, 真实结果: 2\n",
      "算法预测结果: 2, 真实结果: 2\n",
      "算法预测结果: 3, 真实结果: 3\n",
      "算法预测结果: 1, 真实结果: 1\n",
      "算法预测结果: 3, 真实结果: 3\n",
      "算法预测结果: 3, 真实结果: 3\n",
      "算法预测结果: 2, 真实结果: 2\n",
      "算法预测结果: 1, 真实结果: 1\n",
      "算法预测结果: 1, 真实结果: 1\n",
      "算法预测结果: 1, 真实结果: 1\n",
      "算法预测结果: 2, 真实结果: 2\n",
      "算法预测结果: 1, 真实结果: 1\n",
      "算法预测结果: 3, 真实结果: 3\n",
      "算法预测结果: 3, 真实结果: 3\n",
      "算法预测结果: 3, 真实结果: 3\n",
      "算法预测结果: 3, 真实结果: 3\n",
      "算法预测结果: 2, 真实结果: 2\n",
      "算法预测结果: 1, 真实结果: 1\n",
      "算法预测结果: 1, 真实结果: 1\n",
      "算法预测结果: 1, 真实结果: 1\n",
      "算法预测结果: 2, 真实结果: 2\n",
      "算法预测结果: 3, 真实结果: 3\n",
      "算法预测结果: 2, 真实结果: 2\n",
      "算法预测结果: 1, 真实结果: 1\n",
      "算法预测结果: 3, 真实结果: 3\n",
      "算法预测结果: 1, 真实结果: 1\n",
      "算法预测结果: 3, 真实结果: 3\n",
      "算法预测结果: 2, 真实结果: 2\n",
      "算法预测结果: 2, 真实结果: 2\n",
      "算法预测结果: 2, 真实结果: 3\n",
      "算法预测结果: 1, 真实结果: 1\n",
      "算法预测结果: 3, 真实结果: 3\n",
      "算法预测结果: 2, 真实结果: 1\n",
      "算法预测结果: 1, 真实结果: 1\n",
      "算法预测结果: 2, 真实结果: 2\n",
      "算法预测结果: 1, 真实结果: 1\n",
      "算法预测结果: 2, 真实结果: 2\n",
      "算法预测结果: 2, 真实结果: 2\n",
      "算法预测结果: 1, 真实结果: 1\n",
      "算法预测结果: 3, 真实结果: 3\n",
      "算法预测结果: 1, 真实结果: 1\n",
      "算法预测结果: 3, 真实结果: 3\n",
      "算法预测结果: 3, 真实结果: 2\n",
      "算法预测结果: 3, 真实结果: 3\n",
      "算法预测结果: 1, 真实结果: 1\n",
      "算法预测结果: 2, 真实结果: 2\n",
      "算法预测结果: 3, 真实结果: 3\n",
      "算法预测结果: 1, 真实结果: 1\n",
      "算法预测结果: 1, 真实结果: 1\n",
      "算法预测结果: 1, 真实结果: 1\n",
      "算法预测结果: 1, 真实结果: 1\n",
      "算法预测结果: 2, 真实结果: 2\n",
      "算法预测结果: 3, 真实结果: 3\n",
      "算法预测结果: 2, 真实结果: 2\n",
      "算法预测结果: 2, 真实结果: 2\n",
      "算法预测结果: 3, 真实结果: 3\n",
      "算法预测结果: 1, 真实结果: 1\n",
      "算法预测结果: 2, 真实结果: 2\n",
      "算法预测结果: 1, 真实结果: 1\n",
      "算法预测结果: 1, 真实结果: 1\n",
      "算法预测结果: 1, 真实结果: 1\n",
      "算法预测结果: 3, 真实结果: 3\n",
      "算法预测结果: 3, 真实结果: 3\n",
      "算法预测结果: 2, 真实结果: 2\n",
      "算法预测结果: 1, 真实结果: 1\n",
      "算法预测结果: 1, 真实结果: 1\n",
      "算法预测结果: 1, 真实结果: 1\n",
      "算法预测结果: 2, 真实结果: 2\n",
      "算法预测结果: 2, 真实结果: 2\n",
      "算法预测结果: 3, 真实结果: 3\n",
      "算法预测结果: 1, 真实结果: 1\n",
      "算法预测结果: 1, 真实结果: 1\n",
      "算法预测结果: 1, 真实结果: 1\n",
      "算法预测结果: 2, 真实结果: 2\n",
      "算法预测结果: 1, 真实结果: 1\n",
      "算法预测结果: 1, 真实结果: 1\n",
      "算法预测结果: 2, 真实结果: 2\n",
      "算法预测结果: 1, 真实结果: 1\n",
      "算法预测结果: 3, 真实结果: 1\n",
      "算法预测结果: 1, 真实结果: 1\n",
      "算法预测结果: 2, 真实结果: 2\n",
      "算法预测结果: 2, 真实结果: 2\n",
      "算法预测结果: 3, 真实结果: 3\n",
      "算法预测结果: 3, 真实结果: 2\n",
      "算法预测结果: 3, 真实结果: 3\n",
      "算法预测结果: 2, 真实结果: 3\n",
      "算法预测结果: 3, 真实结果: 3\n",
      "算法预测结果: 3, 真实结果: 3\n",
      "算法预测结果: 1, 真实结果: 1\n",
      "算法预测结果: 2, 真实结果: 2\n",
      "算法预测结果: 3, 真实结果: 3\n",
      "算法预测结果: 2, 真实结果: 1\n",
      "算法预测结果: 1, 真实结果: 1\n",
      "算法预测结果: 1, 真实结果: 1\n",
      "算法预测结果: 3, 真实结果: 3\n",
      "算法预测结果: 1, 真实结果: 1\n",
      "算法预测结果: 3, 真实结果: 3\n",
      "算法预测结果: 2, 真实结果: 2\n"
     ]
    }
   ],
   "source": [
    "k = 5\n",
    "errorCount = 0.0\n",
    "for i in range(numTestVecs):\n",
    "    classifierResult = classify0(normTestMat[i,:], normTrainMat,TrainLabels, k)  \n",
    "    if (classifierResult != datingLabels[i]): errorCount += 1.0\n",
    "    print(\"算法预测结果: {}, 真实结果: {}\".format(classifierResult, TestLabels[i]))\n",
    "    "
   ]
  },
  {
   "cell_type": "code",
   "execution_count": 20,
   "metadata": {},
   "outputs": [
    {
     "name": "stdout",
     "output_type": "stream",
     "text": [
      "算法错误率为: 0.07\n"
     ]
    }
   ],
   "source": [
    "print(\"算法错误率为: {}\".format(errorCount / float(numTestVecs)))"
   ]
  },
  {
   "cell_type": "markdown",
   "metadata": {},
   "source": [
    "#### 参数调优"
   ]
  },
  {
   "cell_type": "code",
   "execution_count": 30,
   "metadata": {},
   "outputs": [
    {
     "name": "stdout",
     "output_type": "stream",
     "text": [
      "k=1: errorRate=0.10333333333333333\n",
      "k=2: errorRate=0.10333333333333333\n",
      "k=3: errorRate=0.08333333333333333\n",
      "k=4: errorRate=0.07666666666666666\n",
      "k=5: errorRate=0.07\n",
      "k=6: errorRate=0.07333333333333333\n",
      "k=7: errorRate=0.07333333333333333\n",
      "k=8: errorRate=0.08\n",
      "k=9: errorRate=0.07666666666666666\n",
      "k=10: errorRate=0.07666666666666666\n",
      "k=11: errorRate=0.07333333333333333\n",
      "k=12: errorRate=0.07333333333333333\n",
      "k=13: errorRate=0.06333333333333334\n",
      "k=14: errorRate=0.07333333333333333\n",
      "k=15: errorRate=0.07333333333333333\n",
      "k=16: errorRate=0.07333333333333333\n",
      "k=17: errorRate=0.07666666666666666\n",
      "k=18: errorRate=0.07666666666666666\n",
      "k=19: errorRate=0.07\n",
      "k=20: errorRate=0.07333333333333333\n",
      "k=21: errorRate=0.06666666666666667\n",
      "k=22: errorRate=0.07666666666666666\n",
      "k=23: errorRate=0.07\n",
      "k=24: errorRate=0.07\n",
      "k=25: errorRate=0.07333333333333333\n",
      "k=26: errorRate=0.07333333333333333\n",
      "k=27: errorRate=0.07333333333333333\n",
      "k=28: errorRate=0.07666666666666666\n",
      "k=29: errorRate=0.07333333333333333\n",
      "k=30: errorRate=0.07666666666666666\n",
      "k=31: errorRate=0.07\n",
      "k=32: errorRate=0.07\n",
      "k=33: errorRate=0.06666666666666667\n",
      "k=34: errorRate=0.07\n",
      "k=35: errorRate=0.06666666666666667\n",
      "k=36: errorRate=0.07333333333333333\n",
      "k=37: errorRate=0.07\n",
      "k=38: errorRate=0.08\n",
      "k=39: errorRate=0.07\n",
      "k=40: errorRate=0.08333333333333333\n",
      "k=41: errorRate=0.07\n",
      "k=42: errorRate=0.08333333333333333\n",
      "k=43: errorRate=0.08333333333333333\n",
      "k=44: errorRate=0.08\n",
      "k=45: errorRate=0.08\n",
      "k=46: errorRate=0.08666666666666667\n",
      "k=47: errorRate=0.09\n",
      "k=48: errorRate=0.08333333333333333\n",
      "k=49: errorRate=0.08666666666666667\n",
      "k=50: errorRate=0.08333333333333333\n",
      "k=51: errorRate=0.08\n",
      "k=52: errorRate=0.08\n",
      "k=53: errorRate=0.08333333333333333\n",
      "k=54: errorRate=0.08333333333333333\n",
      "k=55: errorRate=0.08\n",
      "k=56: errorRate=0.08\n",
      "k=57: errorRate=0.08\n",
      "k=58: errorRate=0.08333333333333333\n",
      "k=59: errorRate=0.08333333333333333\n",
      "k=60: errorRate=0.08666666666666667\n",
      "k=61: errorRate=0.08666666666666667\n",
      "k=62: errorRate=0.09\n",
      "k=63: errorRate=0.09333333333333334\n",
      "k=64: errorRate=0.09333333333333334\n",
      "k=65: errorRate=0.09\n",
      "k=66: errorRate=0.09\n",
      "k=67: errorRate=0.08666666666666667\n",
      "k=68: errorRate=0.09333333333333334\n",
      "k=69: errorRate=0.09333333333333334\n",
      "k=70: errorRate=0.09333333333333334\n",
      "k=71: errorRate=0.09333333333333334\n",
      "k=72: errorRate=0.09333333333333334\n",
      "k=73: errorRate=0.09\n",
      "k=74: errorRate=0.09\n",
      "k=75: errorRate=0.09333333333333334\n",
      "k=76: errorRate=0.09\n",
      "k=77: errorRate=0.09\n",
      "k=78: errorRate=0.09\n",
      "k=79: errorRate=0.09333333333333334\n",
      "k=80: errorRate=0.09333333333333334\n",
      "k=81: errorRate=0.09333333333333334\n",
      "k=82: errorRate=0.09333333333333334\n",
      "k=83: errorRate=0.09333333333333334\n",
      "k=84: errorRate=0.09333333333333334\n",
      "k=85: errorRate=0.09333333333333334\n",
      "k=86: errorRate=0.09\n",
      "k=87: errorRate=0.09\n",
      "k=88: errorRate=0.09333333333333334\n",
      "k=89: errorRate=0.09\n",
      "k=90: errorRate=0.09666666666666666\n",
      "k=91: errorRate=0.09333333333333334\n",
      "k=92: errorRate=0.09666666666666666\n",
      "k=93: errorRate=0.09666666666666666\n",
      "k=94: errorRate=0.09333333333333334\n",
      "k=95: errorRate=0.09666666666666666\n",
      "k=96: errorRate=0.09666666666666666\n",
      "k=97: errorRate=0.09666666666666666\n",
      "k=98: errorRate=0.09333333333333334\n",
      "k=99: errorRate=0.09666666666666666\n"
     ]
    }
   ],
   "source": [
    "for k in range(1,100):\n",
    "    errorCount = 0.0\n",
    "    for i in range(numTestVecs):\n",
    "        classifierResult = classify0(normTestMat[i,:], normTrainMat,TrainLabels, k)  \n",
    "        if (classifierResult != datingLabels[i]): errorCount += 1.0\n",
    "    print(\"k={}: errorRate={}\".format(k,errorCount/float(numTestVecs)))"
   ]
  },
  {
   "cell_type": "markdown",
   "metadata": {},
   "source": [
    "###  项目案例2：手写体数字识别"
   ]
  },
  {
   "cell_type": "markdown",
   "metadata": {},
   "source": [
    "**项目概述**\n",
    "\n",
    "代码链接：http://121.40.249.2:8888/edit/lessons/2.1kNN/kNN.py\n",
    "\n",
    "数据链接：http://121.40.249.2:8888/tree/lessons/2.1kNN/digits\n",
    "\n",
    "构造一个能识别数字 0 到 9 的基于 KNN 分类器的手写数字识别系统。\n",
    "\n",
    "需要识别的数字是存储在文本文件中的具有相同的色彩和大小、宽高是 32 像素 * 32 像素的黑白图像。\n",
    "\n",
    "\n",
    "目录 trainingDigits 中包含了大约 2000 个例子，每个例子内容如下图所示，每个数字大约有 200 个样本；目录 testDigits 中包含了大约 900 个测试数据。\n"
   ]
  },
  {
   "cell_type": "markdown",
   "metadata": {},
   "source": [
    "<img src=\"http://121.40.249.2/notebook/lessons/2.1kNN/kNN_3.png\" style=\"width:500px;height:300px;float:left\">"
   ]
  },
  {
   "cell_type": "markdown",
   "metadata": {
    "ExecuteTime": {
     "end_time": "2018-05-18T08:51:30.868030Z",
     "start_time": "2018-05-18T08:51:30.858127Z"
    }
   },
   "source": [
    "**目的 ： 根据训练集数据，使用kNN算法预测测试集中的手写体图像所对应的数字**"
   ]
  },
  {
   "cell_type": "markdown",
   "metadata": {},
   "source": [
    "### 项目案例2：代码分析"
   ]
  },
  {
   "cell_type": "code",
   "execution_count": null,
   "metadata": {},
   "outputs": [],
   "source": []
  }
 ],
 "metadata": {
  "kernelspec": {
   "display_name": "Python [conda env:anaconda3]",
   "language": "python",
   "name": "conda-env-anaconda3-py"
  },
  "language_info": {
   "codemirror_mode": {
    "name": "ipython",
    "version": 3
   },
   "file_extension": ".py",
   "mimetype": "text/x-python",
   "name": "python",
   "nbconvert_exporter": "python",
   "pygments_lexer": "ipython3",
   "version": "3.6.4"
  },
  "toc": {
   "base_numbering": 1,
   "nav_menu": {},
   "number_sections": true,
   "sideBar": true,
   "skip_h1_title": true,
   "title_cell": "Table of Contents",
   "title_sidebar": "Contents",
   "toc_cell": true,
   "toc_position": {
    "height": "570px",
    "left": "588px",
    "top": "139.8px",
    "width": "289px"
   },
   "toc_section_display": true,
   "toc_window_display": true
  }
 },
 "nbformat": 4,
 "nbformat_minor": 2
}
