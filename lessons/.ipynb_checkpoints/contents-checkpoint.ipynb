{
 "cells": [
  {
   "cell_type": "markdown",
   "metadata": {},
   "source": [
    "* 0.[序章](http://note.youdao.com/groupshare/?token=EA738600EB2E4E0B826172D13C7A6D2C&gid=71756340)\n",
    "* 1.[机器学习概述](http://121.40.249.2:8888/notebooks/lessons/contents.ipynb)\n",
    "    * 1.1 [机器学习：让你的计算机像婴儿一样学习](http://note.youdao.com/groupshare/?token=5EB8025DFF05453A860E2ABB2A145461&gid=71756340)\n",
    "    * 1.2 [自然语言处理技术与图灵测试](https://note.youdao.com/)\n",
    "    * 1.3 [吴恩达的猫脸识别器](https://note.youdao.com/)\n",
    "    * 1.4 莱布尼兹之梦：从符号逻辑到神经网络\n",
    "    * 1.5 人工智能会给未来世界带来什么\n",
    "    * 1.6 学习路线图\n",
    "* 2.[有监督算法](http://121.40.249.2:8888/notebooks/lessons/contents.ipynb)\n",
    "    * 2.1 [k-近邻算法](http://121.40.249.2:8888/notebooks/lessons/2.1kNN/main.ipynb)\n",
    "    * 2.2 朴素贝叶斯\n",
    "    * 2.3 支持向量机\n",
    "    * 2.4 决策树\n",
    "    * 2.5 逻辑斯蒂回归\n",
    "    * 2.6 随机森林\n",
    "    * 2.7 GBDT算法\n",
    "    * 2.8 Adaboost算法\n",
    "    * 2.9 回归算法\n",
    "* 3.[无监督算法](http://121.40.249.2:8888/notebooks/lessons/contents.ipynb)\n",
    "    * 3.1 K-means聚类\n",
    "    * 3.2 关联分析\n",
    "* 4.[神经网络](http://121.40.249.2:8888/notebooks/lessons/contents.ipynb)\n",
    "    * 4.1 感知机模型\n",
    "    * 4.2 CNN模型\n",
    "    * 4.3 RNN模型\n",
    "    * 4.4 LSTM模型\n",
    "    * 4.5 对抗神经网络\n",
    "    * 4.6 强化学习\n",
    "    \n",
    "* 5.[方法经验分享](http://121.40.249.2:8888/notebooks/lessons/contents.ipynb)\n",
    "    * 5.1 常用的模型评估指标\n",
    "    * 5.2 常用的特征选择方法\n",
    "    * 5.3 正则化与交叉验证\n",
    "    * 5.4 过拟合的解决方案\n",
    "    * 5.5 数据分析与可视化\n",
    "    * 5.6 最优化方法\n",
    "* 6.[项目实践](http://121.40.249.2:8888/notebooks/lessons/contents.ipynb)\n",
    "    * 金融信用评分卡模型\n",
    "    * 文本分类\n",
    "    * 文本情感识别\n",
    "    * 文本生成\n",
    "    * 手写体识别\n",
    "    * 图片识别\n",
    "* 附录\n",
    "    * 1. [机器学习资料整理](https://note.youdao.com/share/?token=E374B7AD2CD747BC95EC11B17499EBB8&gid=71756340)\n",
    "    * 2. [python十分钟入门](http://roclinux.cn/?p=2338)\n",
    "    * 3. [机器学习的数学基础](https://zhuanlan.zhihu.com/p/25197792)\n",
    "    * 4. [类库和工具整理](https://note.youdao.com/)"
   ]
  },
  {
   "cell_type": "code",
   "execution_count": null,
   "metadata": {},
   "outputs": [],
   "source": []
  }
 ],
 "metadata": {
  "kernelspec": {
   "display_name": "Python [conda env:anaconda3]",
   "language": "python",
   "name": "conda-env-anaconda3-py"
  },
  "language_info": {
   "codemirror_mode": {
    "name": "ipython",
    "version": 3
   },
   "file_extension": ".py",
   "mimetype": "text/x-python",
   "name": "python",
   "nbconvert_exporter": "python",
   "pygments_lexer": "ipython3",
   "version": "3.6.4"
  }
 },
 "nbformat": 4,
 "nbformat_minor": 2
}
