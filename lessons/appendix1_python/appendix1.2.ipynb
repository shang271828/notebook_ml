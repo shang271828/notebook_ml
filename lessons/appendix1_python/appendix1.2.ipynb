{
 "cells": [
  {
   "cell_type": "markdown",
   "metadata": {
    "toc": true
   },
   "source": [
    "<h1>Table of Contents<span class=\"tocSkip\"></span></h1>\n",
    "<div class=\"toc\"><ul class=\"toc-item\"><li><span><a href=\"#numpy\" data-toc-modified-id=\"numpy-1\"><span class=\"toc-item-num\">1&nbsp;&nbsp;</span>numpy</a></span><ul class=\"toc-item\"><li><span><a href=\"#导入numpy库\" data-toc-modified-id=\"导入numpy库-1.1\"><span class=\"toc-item-num\">1.1&nbsp;&nbsp;</span>导入numpy库</a></span></li><li><span><a href=\"#numpy的两种数据结构之一：数组\" data-toc-modified-id=\"numpy的两种数据结构之一：数组-1.2\"><span class=\"toc-item-num\">1.2&nbsp;&nbsp;</span>numpy的两种数据结构之一：数组</a></span></li><li><span><a href=\"#numpy的两种数据结构之二：矩阵\" data-toc-modified-id=\"numpy的两种数据结构之二：矩阵-1.3\"><span class=\"toc-item-num\">1.3&nbsp;&nbsp;</span>numpy的两种数据结构之二：矩阵</a></span></li><li><span><a href=\"#矩阵运算\" data-toc-modified-id=\"矩阵运算-1.4\"><span class=\"toc-item-num\">1.4&nbsp;&nbsp;</span>矩阵运算</a></span><ul class=\"toc-item\"><li><span><a href=\"#矩阵求逆\" data-toc-modified-id=\"矩阵求逆-1.4.1\"><span class=\"toc-item-num\">1.4.1&nbsp;&nbsp;</span>矩阵求逆</a></span></li><li><span><a href=\"#矩阵相乘\" data-toc-modified-id=\"矩阵相乘-1.4.2\"><span class=\"toc-item-num\">1.4.2&nbsp;&nbsp;</span>矩阵相乘</a></span></li></ul></li></ul></li><li><span><a href=\"#pandas\" data-toc-modified-id=\"pandas-2\"><span class=\"toc-item-num\">2&nbsp;&nbsp;</span>pandas</a></span></li><li><span><a href=\"#matplotlib\" data-toc-modified-id=\"matplotlib-3\"><span class=\"toc-item-num\">3&nbsp;&nbsp;</span>matplotlib</a></span></li><li><span><a href=\"#scikit-learn\" data-toc-modified-id=\"scikit-learn-4\"><span class=\"toc-item-num\">4&nbsp;&nbsp;</span>scikit-learn</a></span></li></ul></div>"
   ]
  },
  {
   "cell_type": "markdown",
   "metadata": {},
   "source": [
    "## numpy"
   ]
  },
  {
   "cell_type": "markdown",
   "metadata": {
    "ExecuteTime": {
     "end_time": "2018-05-29T03:09:23.674037Z",
     "start_time": "2018-05-29T03:09:23.664236Z"
    }
   },
   "source": [
    "### 导入numpy库"
   ]
  },
  {
   "cell_type": "code",
   "execution_count": 3,
   "metadata": {
    "ExecuteTime": {
     "end_time": "2018-05-29T03:08:54.309927Z",
     "start_time": "2018-05-29T03:08:54.298128Z"
    }
   },
   "outputs": [],
   "source": [
    "import numpy as np"
   ]
  },
  {
   "cell_type": "markdown",
   "metadata": {
    "ExecuteTime": {
     "end_time": "2018-05-29T03:09:54.214939Z",
     "start_time": "2018-05-29T03:09:54.206734Z"
    }
   },
   "source": [
    "### numpy的两种数据结构之一：数组"
   ]
  },
  {
   "cell_type": "code",
   "execution_count": 11,
   "metadata": {
    "ExecuteTime": {
     "end_time": "2018-05-29T03:17:57.576479Z",
     "start_time": "2018-05-29T03:17:57.562536Z"
    }
   },
   "outputs": [
    {
     "name": "stdout",
     "output_type": "stream",
     "text": [
      "一维数组:[1 2 3 4]\n"
     ]
    }
   ],
   "source": [
    "# 创建简单的列表\n",
    "a = [1, 2, 3, 4]\n",
    "# 将列表转换为数组\n",
    "b = np.array(a)\n",
    "print(\"一维数组:\"+str(b))"
   ]
  },
  {
   "cell_type": "code",
   "execution_count": 18,
   "metadata": {
    "ExecuteTime": {
     "end_time": "2018-05-29T06:09:13.199777Z",
     "start_time": "2018-05-29T06:09:13.184774Z"
    }
   },
   "outputs": [
    {
     "name": "stdout",
     "output_type": "stream",
     "text": [
      "4*4数组：\n",
      "[[0.40368221 0.6609671  0.91947982 0.95247621]\n",
      " [0.99465465 0.86163295 0.90685198 0.2835494 ]\n",
      " [0.91364219 0.13310022 0.34096684 0.56975154]\n",
      " [0.35396694 0.03095031 0.52864765 0.45598583]]\n"
     ]
    }
   ],
   "source": [
    "# 生成随机的4*4数组\n",
    "rand_arr = np.random.rand(4,4)\n",
    "print('4*4数组：')\n",
    "print(str(rand_arr))"
   ]
  },
  {
   "cell_type": "markdown",
   "metadata": {},
   "source": [
    "### numpy的两种数据结构之二：矩阵"
   ]
  },
  {
   "cell_type": "code",
   "execution_count": 9,
   "metadata": {
    "ExecuteTime": {
     "end_time": "2018-05-29T03:17:37.220107Z",
     "start_time": "2018-05-29T03:17:36.737078Z"
    }
   },
   "outputs": [
    {
     "name": "stdout",
     "output_type": "stream",
     "text": [
      "一维矩阵:[[1 2 3 4]]\n"
     ]
    }
   ],
   "source": [
    "# 将数组转换为矩阵\n",
    "c = np.mat(b)\n",
    "print(\"一维矩阵:\"+str(c))"
   ]
  },
  {
   "cell_type": "code",
   "execution_count": 19,
   "metadata": {
    "ExecuteTime": {
     "end_time": "2018-05-29T06:09:54.610501Z",
     "start_time": "2018-05-29T06:09:54.598156Z"
    }
   },
   "outputs": [
    {
     "name": "stdout",
     "output_type": "stream",
     "text": [
      "4*4矩阵：\n",
      "[[0.40368221 0.6609671  0.91947982 0.95247621]\n",
      " [0.99465465 0.86163295 0.90685198 0.2835494 ]\n",
      " [0.91364219 0.13310022 0.34096684 0.56975154]\n",
      " [0.35396694 0.03095031 0.52864765 0.45598583]]\n"
     ]
    }
   ],
   "source": [
    "rand_mat = np.mat(rand_arr)\n",
    "print('4*4矩阵：')\n",
    "print(str(rand_mat))"
   ]
  },
  {
   "cell_type": "markdown",
   "metadata": {},
   "source": [
    "**注意：矩阵和数组是numpy中的两种不同的数据结构，虽然看上去相似，但是执行同样函数所返回的结果不同**"
   ]
  },
  {
   "cell_type": "markdown",
   "metadata": {},
   "source": [
    "### 矩阵运算"
   ]
  },
  {
   "cell_type": "markdown",
   "metadata": {
    "ExecuteTime": {
     "end_time": "2018-05-29T06:05:36.424057Z",
     "start_time": "2018-05-29T06:05:36.417743Z"
    }
   },
   "source": [
    "#### 矩阵求逆"
   ]
  },
  {
   "cell_type": "code",
   "execution_count": 20,
   "metadata": {
    "ExecuteTime": {
     "end_time": "2018-05-29T06:12:48.720191Z",
     "start_time": "2018-05-29T06:12:48.567727Z"
    }
   },
   "outputs": [
    {
     "name": "stdout",
     "output_type": "stream",
     "text": [
      "rand_mat的逆矩阵：\n",
      "[[-0.6764747   0.36168239  1.04542093 -0.11811541]\n",
      " [ 1.08644243  0.40608819  0.1064549  -2.65492783]\n",
      " [-0.67675563  0.65346016 -1.55573804  2.95116526]\n",
      " [ 1.23597968 -1.06591545  0.98489464 -0.956492  ]]\n"
     ]
    }
   ],
   "source": [
    "inv_rand_mat = rand_mat.I\n",
    "print(\"rand_mat的逆矩阵：\")\n",
    "print(str(inv_rand_mat))"
   ]
  },
  {
   "cell_type": "markdown",
   "metadata": {},
   "source": [
    "####  矩阵相乘"
   ]
  },
  {
   "cell_type": "code",
   "execution_count": 25,
   "metadata": {
    "ExecuteTime": {
     "end_time": "2018-05-29T06:18:37.000028Z",
     "start_time": "2018-05-29T06:18:36.975107Z"
    }
   },
   "outputs": [
    {
     "name": "stdout",
     "output_type": "stream",
     "text": [
      "矩阵与其自身的逆矩阵相乘：\n",
      "[[0.40368221 0.6609671  0.91947982 0.95247621]\n",
      " [0.99465465 0.86163295 0.90685198 0.2835494 ]\n",
      " [0.91364219 0.13310022 0.34096684 0.56975154]\n",
      " [0.35396694 0.03095031 0.52864765 0.45598583]]\n",
      "乘以\n",
      "[[-0.6764747   0.36168239  1.04542093 -0.11811541]\n",
      " [ 1.08644243  0.40608819  0.1064549  -2.65492783]\n",
      " [-0.67675563  0.65346016 -1.55573804  2.95116526]\n",
      " [ 1.23597968 -1.06591545  0.98489464 -0.956492  ]]\n",
      "等于\n",
      "[[ 1.00000000e+00  0.00000000e+00 -1.11022302e-16 -3.33066907e-16]\n",
      " [ 0.00000000e+00  1.00000000e+00 -1.11022302e-16 -1.66533454e-16]\n",
      " [ 0.00000000e+00  1.11022302e-16  1.00000000e+00 -4.44089210e-16]\n",
      " [ 0.00000000e+00  5.55111512e-17  5.55111512e-17  1.00000000e+00]]\n"
     ]
    }
   ],
   "source": [
    "multi_mat = rand_mat*inv_rand_mat\n",
    "print(\"矩阵与其自身的逆矩阵相乘：\")\n",
    "print(rand_mat)\n",
    "print('乘以')\n",
    "print(inv_rand_mat)\n",
    "print('等于')\n",
    "print(multi_mat)"
   ]
  },
  {
   "cell_type": "markdown",
   "metadata": {
    "ExecuteTime": {
     "end_time": "2018-05-29T02:40:09.950382Z",
     "start_time": "2018-05-29T02:40:09.911913Z"
    }
   },
   "source": [
    "## pandas"
   ]
  },
  {
   "cell_type": "markdown",
   "metadata": {},
   "source": [
    "### 导入pandas库"
   ]
  },
  {
   "cell_type": "code",
   "execution_count": 2,
   "metadata": {},
   "outputs": [],
   "source": [
    "import pandas as pd"
   ]
  },
  {
   "cell_type": "markdown",
   "metadata": {},
   "source": [
    "### pandas的两种数据结构之一：Series(一维数据)"
   ]
  },
  {
   "cell_type": "markdown",
   "metadata": {},
   "source": [
    "<img src=\"http://localhost:8888/view/notebook_ml/lessons/%E9%99%84%E5%BD%951_python%E6%95%99%E7%A8%8B/appendix_1.png\"\n",
    "style=\"width:200px;height:170px;float:left\">"
   ]
  },
  {
   "cell_type": "markdown",
   "metadata": {},
   "source": [
    "### pandas的两种数据结构之二：DataFrame(多维数据）"
   ]
  },
  {
   "cell_type": "markdown",
   "metadata": {},
   "source": [
    "## matplotlib"
   ]
  },
  {
   "cell_type": "markdown",
   "metadata": {
    "ExecuteTime": {
     "end_time": "2018-05-29T02:40:26.721602Z",
     "start_time": "2018-05-29T02:40:26.686609Z"
    }
   },
   "source": [
    "## scikit-learn"
   ]
  },
  {
   "cell_type": "code",
   "execution_count": null,
   "metadata": {},
   "outputs": [],
   "source": []
  }
 ],
 "metadata": {
  "kernelspec": {
   "display_name": "Python 3",
   "language": "python",
   "name": "python3"
  },
  "language_info": {
   "codemirror_mode": {
    "name": "ipython",
    "version": 3
   },
   "file_extension": ".py",
   "mimetype": "text/x-python",
   "name": "python",
   "nbconvert_exporter": "python",
   "pygments_lexer": "ipython3",
   "version": "3.6.4"
  },
  "toc": {
   "base_numbering": 1,
   "nav_menu": {},
   "number_sections": true,
   "sideBar": true,
   "skip_h1_title": true,
   "title_cell": "Table of Contents",
   "title_sidebar": "Contents",
   "toc_cell": true,
   "toc_position": {},
   "toc_section_display": true,
   "toc_window_display": false
  }
 },
 "nbformat": 4,
 "nbformat_minor": 2
}
