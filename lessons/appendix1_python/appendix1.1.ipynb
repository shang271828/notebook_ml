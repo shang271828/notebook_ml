{
 "cells": [
  {
   "cell_type": "markdown",
   "metadata": {
    "toc": true
   },
   "source": [
    "<h1>Table of Contents<span class=\"tocSkip\"></span></h1>\n",
    "<div class=\"toc\"><ul class=\"toc-item\"><li><span><a href=\"#写在前面\" data-toc-modified-id=\"写在前面-1\"><span class=\"toc-item-num\">1&nbsp;&nbsp;</span>写在前面</a></span></li><li><span><a href=\"#学习建议\" data-toc-modified-id=\"学习建议-2\"><span class=\"toc-item-num\">2&nbsp;&nbsp;</span>学习建议</a></span></li><li><span><a href=\"#python要点\" data-toc-modified-id=\"python要点-3\"><span class=\"toc-item-num\">3&nbsp;&nbsp;</span>python要点</a></span></li><li><span><a href=\"#实战练习\" data-toc-modified-id=\"实战练习-4\"><span class=\"toc-item-num\">4&nbsp;&nbsp;</span>实战练习</a></span></li></ul></div>"
   ]
  },
  {
   "cell_type": "markdown",
   "metadata": {
    "ExecuteTime": {
     "end_time": "2018-05-25T10:37:53.250361Z",
     "start_time": "2018-05-25T10:37:53.244252Z"
    }
   },
   "source": [
    "## 写在前面"
   ]
  },
  {
   "cell_type": "markdown",
   "metadata": {
    "ExecuteTime": {
     "end_time": "2018-05-25T10:40:00.827353Z",
     "start_time": "2018-05-25T10:40:00.817347Z"
    }
   },
   "source": [
    "    本教程的目的是为机器学习服务的，方便不熟悉python的童鞋快速熟悉机器学习中用到的python语法\n",
    "    本教程不打算详述Python语言的方方面面（大家可以通过下面列出的教程学习）"
   ]
  },
  {
   "cell_type": "markdown",
   "metadata": {},
   "source": [
    "## 学习建议"
   ]
  },
  {
   "cell_type": "markdown",
   "metadata": {},
   "source": [
    "   * 开发环境：[Anaconda](https://www.anaconda.com/download/)\n",
    "   * 编辑器：[Jupyter notebook](http://121.40.249.2:8888)\n",
    "   * 文档：[廖雪峰的python教程](https://www.liaoxuefeng.com/wiki/0014316089557264a6b348958f449949df42a6d3a2e542c000) | \n",
    "   [python最佳实践指南](http://pythonguidecn.readthedocs.io/zh/latest/)"
   ]
  },
  {
   "cell_type": "markdown",
   "metadata": {
    "ExecuteTime": {
     "end_time": "2018-05-25T10:36:46.988635Z",
     "start_time": "2018-05-25T10:36:46.979417Z"
    }
   },
   "source": [
    "## python要点"
   ]
  },
  {
   "cell_type": "code",
   "execution_count": 1,
   "metadata": {
    "ExecuteTime": {
     "end_time": "2018-05-26T07:04:42.598265Z",
     "start_time": "2018-05-26T07:04:42.569916Z"
    }
   },
   "outputs": [
    {
     "name": "stdout",
     "output_type": "stream",
     "text": [
      "The Zen of Python, by Tim Peters\n",
      "\n",
      "Beautiful is better than ugly.\n",
      "Explicit is better than implicit.\n",
      "Simple is better than complex.\n",
      "Complex is better than complicated.\n",
      "Flat is better than nested.\n",
      "Sparse is better than dense.\n",
      "Readability counts.\n",
      "Special cases aren't special enough to break the rules.\n",
      "Although practicality beats purity.\n",
      "Errors should never pass silently.\n",
      "Unless explicitly silenced.\n",
      "In the face of ambiguity, refuse the temptation to guess.\n",
      "There should be one-- and preferably only one --obvious way to do it.\n",
      "Although that way may not be obvious at first unless you're Dutch.\n",
      "Now is better than never.\n",
      "Although never is often better than *right* now.\n",
      "If the implementation is hard to explain, it's a bad idea.\n",
      "If the implementation is easy to explain, it may be a good idea.\n",
      "Namespaces are one honking great idea -- let's do more of those!\n"
     ]
    }
   ],
   "source": [
    "import this"
   ]
  },
  {
   "cell_type": "markdown",
   "metadata": {},
   "source": [
    "**Python之禅 by Tim Peters**\n",
    "\n",
    "    优美胜于丑陋（Python以编写优美的代码为目标）\n",
    "    明了胜于晦涩（优美的代码应当是明了的，命名规范，风格相似）\n",
    "    简洁胜于复杂（优美的代码应当是简洁的，不要有复杂的内部实现）\n",
    "    复杂胜于凌乱（如果复杂不可避免，那代码间也不能有难懂的关系，要保持接口简洁）\n",
    "    扁平胜于嵌套（优美的代码应当是扁平的，不能有太多的嵌套）\n",
    "    间隔胜于紧凑（优美的代码有适当的间隔，不要奢望一行代码解决问题）\n",
    "    可读性很重要（优美的代码是可读的）\n",
    "    即便假借特例的实用性之名，也不可违背这些规则（这些规则至高无上）\n",
    "    不要包容所有错误，除非您确定需要这样做（精准地捕获异常，不写 except:pass 风格的代码）\n",
    "    当存在多种可能，不要尝试去猜测\n",
    "    而是尽量找一种，最好是唯一一种明显的解决方案（如果不确定，就用穷举法）\n",
    "    虽然这并不容易，因为您不是 Python 之父（这里的 Dutch 是指 Guido ）\n",
    "    做也许好过不做，但不假思索就动手还不如不做（动手之前要细思量）\n",
    "    如果您无法向人描述您的方案，那肯定不是一个好方案；反之亦然（方案测评标准）\n",
    "    命名空间是一种绝妙的理念，我们应当多加利用（倡导与号召）"
   ]
  },
  {
   "cell_type": "markdown",
   "metadata": {},
   "source": [
    "## 实战练习"
   ]
  },
  {
   "cell_type": "code",
   "execution_count": 2,
   "metadata": {
    "ExecuteTime": {
     "end_time": "2018-05-26T12:59:22.487965Z",
     "start_time": "2018-05-26T12:59:22.459568Z"
    }
   },
   "outputs": [],
   "source": [
    "def my_abs(x):\n",
    "    if x >= 0:\n",
    "        return x\n",
    "    else:\n",
    "        return -x\n"
   ]
  },
  {
   "cell_type": "code",
   "execution_count": 3,
   "metadata": {
    "ExecuteTime": {
     "end_time": "2018-05-26T12:59:42.815601Z",
     "start_time": "2018-05-26T12:59:42.804601Z"
    }
   },
   "outputs": [
    {
     "name": "stdout",
     "output_type": "stream",
     "text": [
      "3\n"
     ]
    }
   ],
   "source": [
    "a = my_abs(3)\n",
    "print(a)"
   ]
  },
  {
   "cell_type": "code",
   "execution_count": 4,
   "metadata": {
    "ExecuteTime": {
     "end_time": "2018-05-26T13:00:03.390152Z",
     "start_time": "2018-05-26T13:00:03.381834Z"
    }
   },
   "outputs": [
    {
     "name": "stdout",
     "output_type": "stream",
     "text": [
      "3\n"
     ]
    }
   ],
   "source": [
    "a = my_abs(-3)\n",
    "print(a)"
   ]
  },
  {
   "cell_type": "code",
   "execution_count": null,
   "metadata": {},
   "outputs": [],
   "source": []
  }
 ],
 "metadata": {
  "kernelspec": {
   "display_name": "Python [conda env:anaconda3]",
   "language": "python",
   "name": "conda-env-anaconda3-py"
  },
  "language_info": {
   "codemirror_mode": {
    "name": "ipython",
    "version": 3
   },
   "file_extension": ".py",
   "mimetype": "text/x-python",
   "name": "python",
   "nbconvert_exporter": "python",
   "pygments_lexer": "ipython3",
   "version": "3.6.4"
  },
  "toc": {
   "base_numbering": 1,
   "nav_menu": {},
   "number_sections": true,
   "sideBar": true,
   "skip_h1_title": true,
   "title_cell": "Table of Contents",
   "title_sidebar": "Contents",
   "toc_cell": true,
   "toc_position": {},
   "toc_section_display": true,
   "toc_window_display": false
  }
 },
 "nbformat": 4,
 "nbformat_minor": 2
}
