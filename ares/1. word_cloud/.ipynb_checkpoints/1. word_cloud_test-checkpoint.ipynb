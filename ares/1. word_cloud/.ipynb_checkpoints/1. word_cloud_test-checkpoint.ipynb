{
 "cells": [
  {
   "cell_type": "code",
   "execution_count": 1,
   "metadata": {},
   "outputs": [
    {
     "name": "stdout",
     "output_type": "stream",
     "text": [
      "Ares say 'Hello World' to you\n"
     ]
    }
   ],
   "source": [
    "# Ares 练习代码\n",
    "print('Ares say \\'Hello World\\' to you')\n",
    "# 结巴 document: https://pypi.org/project/jieba/#files"
   ]
  },
  {
   "cell_type": "code",
   "execution_count": 23,
   "metadata": {},
   "outputs": [
    {
     "name": "stdout",
     "output_type": "stream",
     "text": [
      "from: 我的书间之花， 落下它那被遗忘的花瓣， 在黄昏中， 这花成熟为一颗记忆的金果!\n",
      "to:   我 的 书间 之花 ，   落下 它 那 被 遗忘 的 花瓣 ，   在 黄昏 中 ，   这花 成熟 为 一颗 记忆 的 金果 !\n"
     ]
    }
   ],
   "source": [
    "import jieba\n",
    "# 搜索引擎模式\n",
    "sentence = '我的书间之花， 落下它那被遗忘的花瓣， 在黄昏中， 这花成熟为一颗记忆的金果!'\n",
    "word_list = jieba.cut_for_search(sentence) \n",
    "print('from: ' + sentence)\n",
    "# 数组拼接打印\n",
    "print ('to:   ' + ' '.join(word_list))"
   ]
  },
  {
   "cell_type": "code",
   "execution_count": 52,
   "metadata": {},
   "outputs": [
    {
     "name": "stdout",
     "output_type": "stream",
     "text": [
      "from: 我的书间之花， 落下它那被遗忘的花瓣\n",
      "to:   \n",
      "我/r\n",
      "的/uj\n",
      "书间/n\n",
      "之/u\n",
      "花/n\n",
      "，/x\n",
      " /x\n",
      "落下/v\n",
      "它/r\n",
      "那/r\n",
      "被/p\n",
      "遗忘/v\n",
      "的/uj\n",
      "花瓣/n\n"
     ]
    }
   ],
   "source": [
    "import re\n",
    "import jieba.posseg\n",
    "import jieba.analyse\n",
    "\n",
    "# 正则表达式去除非目标字符(逗号，感叹号，空格换行等)\n",
    "sentence = '我的书间之花， 落下它那被遗忘的花瓣'\n",
    "new_sentence=re.sub('，|!|\\s', '', sentence)\n",
    "word_list = jieba.posseg.cut(sentence) # 词性标注\n",
    "# word_list = jieba.analyse.extract_tags(sentence) # 此行代码比较耗时耗资源\n",
    "print('from: ' + sentence)\n",
    "print('to:   ')\n",
    "# 循环打印\n",
    "for word in word_list:\n",
    "    print(word) \n",
    "    if(word == '花/n'): # 先打印一半, 词性标注是貌似无效\n",
    "        break"
   ]
  },
  {
   "cell_type": "code",
   "execution_count": 50,
   "metadata": {},
   "outputs": [
    {
     "name": "stdout",
     "output_type": "stream",
     "text": [
      "悟空\t5970\n",
      "罗刹\t3760\n",
      "牛魔王\t3161\n",
      "扇子\t2166\n",
      "芭蕉扇\t1126\n",
      "宝扇\t668\n",
      "变成\t640\n",
      "云山\t623\n",
      "八戒\t560\n",
      "铁扇公主\t523\n"
     ]
    }
   ],
   "source": [
    "import jieba.analyse\n",
    "import re\n",
    "\n",
    "file_path = '/root/workspace/notebook/ares/the_journey_to_the_west.txt'\n",
    "\n",
    "input_stream = open(file_path, 'r')\n",
    "words = input_stream.read()\n",
    "re1=u'[a-zA-Z0-9’!\"#$%&\\'()*+,-./:;<=>?@，。?★、…【】《》？“”‘’！[\\\\]^_`{|}~]+'\n",
    "words = re.sub(re1, '', words)\n",
    "    \n",
    "try:\n",
    "    jieba.analyse.set_stop_words('/data/dict/stopwords_cn.txt')\n",
    "    tags = jieba.analyse.extract_tags(words, topK= 10, withWeight=True)\n",
    "    for word, weight in tags:\n",
    "        print(word + '\\t' + str(int(weight*10000)))\n",
    "\n",
    "finally:\n",
    "    input_stream.close()"
   ]
  },
  {
   "cell_type": "code",
   "execution_count": 48,
   "metadata": {
    "scrolled": true
   },
   "outputs": [
    {
     "data": {
      "image/png": "[encoded data removed]",
      "text/plain": [
       "<Figure size 432x288 with 1 Axes>"
      ]
     },
     "metadata": {},
     "output_type": "display_data"
    }
   ],
   "source": [
    "import jieba.analyse\n",
    "import re\n",
    "from PIL import Image\n",
    "import numpy as np\n",
    "from wordcloud import WordCloud\n",
    "import matplotlib.pyplot as plt\n",
    "\n",
    "\n",
    "# 统计词频，生成词云\n",
    "folder = '/root/workspace/notebook/ares/'\n",
    "\n",
    "# 定义生成词云的函数\n",
    "def generate_word_cloud(**args):\n",
    "    file_name = args['file_name']\n",
    "    file_path = folder + file_name + '.txt';\n",
    "    top_k = args['top_k']\n",
    "    bg_name = args['bg_name']\n",
    "    color = args['color']\n",
    "    font_type = args['font_type']\n",
    "    \n",
    "    \n",
    "    with open(file_path, mode='r', encoding='UTF-8') as f:\n",
    "        content = f.read()\n",
    "    \n",
    "    # 去除无意义的符号信息\n",
    "    re1=u'[a-zA-Z0-9’!\"#$%&\\'()*+,-./:;<=>?@，。?★、…【】《》？“”‘’！[\\\\]^_`{|}~]+'\n",
    "    content = re.sub(re1, '', content)\n",
    "    \n",
    "    # 关键词提取所使用停止词（Stop Words）文本语料库\n",
    "    jieba.analyse.set_stop_words('/data/dict/stopwords_cn.txt')\n",
    "    tags = jieba.analyse.extract_tags(content, topK=top_k, withWeight=True)\n",
    "    \n",
    "    # 提取词频\n",
    "    words_freq = {}\n",
    "    for tag, n in tags:\n",
    "        words_freq[tag] = int(n*10000)\n",
    "    \n",
    "    # 设置背景\n",
    "    bg_path = folder + bg_name \n",
    "    image = Image.open(bg_path)\n",
    "    bg_img = np.array(image)\n",
    "    \n",
    "    # 设置字体\n",
    "    font_path = folder + '{}.TTF'.format(font_type)\n",
    "    \n",
    "    # 加载并生成词云\n",
    "    word_cloud = WordCloud(font_path=font_path, # set font\n",
    "                          background_color=color,# set bg color\n",
    "                          max_words=top_k, # set words size\n",
    "                          width=80,       # set img width\n",
    "                          height=120,      # set img height\n",
    "                          max_font_size=80,# set max font size\n",
    "                          mask=bg_img,     # set bg image\n",
    "                          )\n",
    "    word_cloud.generate_from_frequencies(words_freq)\n",
    "    \n",
    "    # show image\n",
    "    plt.imshow(word_cloud)\n",
    "    plt.axis('off') # hide x,y\n",
    "    plt.show()\n",
    "    \n",
    "    # save image\n",
    "    word_cloud_img = folder + '{}_word_cloud.jpg'.format(file_name)\n",
    "    word_cloud.to_file(word_cloud_img)\n",
    "    \n",
    "if __name__ == '__main__':\n",
    "    generate_word_cloud(file_name = 'the_journey_to_the_west',\n",
    "                       top_k = 100,\n",
    "                       bg_name = 'buddist.png',\n",
    "                       color = '#CCC',\n",
    "                       font_type = 'STSONG')\n",
    "    "
   ]
  },
  {
   "cell_type": "code",
   "execution_count": null,
   "metadata": {},
   "outputs": [],
   "source": []
  },
  {
   "cell_type": "code",
   "execution_count": null,
   "metadata": {},
   "outputs": [],
   "source": []
  }
 ],
 "metadata": {
  "kernelspec": {
   "display_name": "Python [default]",
   "language": "python",
   "name": "python3"
  },
  "language_info": {
   "codemirror_mode": {
    "name": "ipython",
    "version": 3
   },
   "file_extension": ".py",
   "mimetype": "text/x-python",
   "name": "python",
   "nbconvert_exporter": "python",
   "pygments_lexer": "ipython3",
   "version": "3.6.4"
  }
 },
 "nbformat": 4,
 "nbformat_minor": 2
}
