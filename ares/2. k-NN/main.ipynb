{
 "cells": [
  {
   "cell_type": "markdown",
   "metadata": {
    "toc": true
   },
   "source": [
    "<h1>Table of Contents<span class=\"tocSkip\"></span></h1>\n",
    "<div class=\"toc\"><ul class=\"toc-item\"><li><span><a href=\"#k-NN-K紧邻算法\" data-toc-modified-id=\"k-NN-K紧邻算法-1\"><span class=\"toc-item-num\">1&nbsp;&nbsp;</span>k-NN K紧邻算法</a></span><ul class=\"toc-item\"><li><span><a href=\"#KNN概述\" data-toc-modified-id=\"KNN概述-1.1\"><span class=\"toc-item-num\">1.1&nbsp;&nbsp;</span>KNN概述</a></span></li><li><span><a href=\"#kNN算法场景举例\" data-toc-modified-id=\"kNN算法场景举例-1.2\"><span class=\"toc-item-num\">1.2&nbsp;&nbsp;</span>kNN算法场景举例</a></span></li><li><span><a href=\"#kNN算法项目实践\" data-toc-modified-id=\"kNN算法项目实践-1.3\"><span class=\"toc-item-num\">1.3&nbsp;&nbsp;</span>kNN算法项目实践</a></span></li></ul></li><li><span><a href=\"#项目案例\" data-toc-modified-id=\"项目案例-2\"><span class=\"toc-item-num\">2&nbsp;&nbsp;</span>项目案例</a></span><ul class=\"toc-item\"><li><span><a href=\"#项目案例1:-优化约会网站的配对效果\" data-toc-modified-id=\"项目案例1:-优化约会网站的配对效果-2.1\"><span class=\"toc-item-num\">2.1&nbsp;&nbsp;</span>项目案例1: 优化约会网站的配对效果</a></span><ul class=\"toc-item\"><li><span><a href=\"#项目需求\" data-toc-modified-id=\"项目需求-2.1.1\"><span class=\"toc-item-num\">2.1.1&nbsp;&nbsp;</span>项目需求</a></span></li><li><span><a href=\"#代码分析\" data-toc-modified-id=\"代码分析-2.1.2\"><span class=\"toc-item-num\">2.1.2&nbsp;&nbsp;</span>代码分析</a></span><ul class=\"toc-item\"><li><span><a href=\"#加载类库\" data-toc-modified-id=\"加载类库-2.1.2.1\"><span class=\"toc-item-num\">2.1.2.1&nbsp;&nbsp;</span>加载类库</a></span></li><li><span><a href=\"#矩阵转换函数（加载特征数据，生成矩阵）\" data-toc-modified-id=\"矩阵转换函数（加载特征数据，生成矩阵）-2.1.2.2\"><span class=\"toc-item-num\">2.1.2.2&nbsp;&nbsp;</span>矩阵转换函数（加载特征数据，生成矩阵）</a></span></li><li><span><a href=\"#调用矩阵转换函数，加载数据文件，将数据转化为矩阵形式\" data-toc-modified-id=\"调用矩阵转换函数，加载数据文件，将数据转化为矩阵形式-2.1.2.3\"><span class=\"toc-item-num\">2.1.2.3&nbsp;&nbsp;</span>调用矩阵转换函数，加载数据文件，将数据转化为矩阵形式</a></span></li></ul></li></ul></li></ul></li></ul></div>"
   ]
  },
  {
   "cell_type": "markdown",
   "metadata": {
    "ExecuteTime": {
     "end_time": "2018-05-19T02:22:27.744586Z",
     "start_time": "2018-05-19T02:22:27.734382Z"
    }
   },
   "source": [
    "## k-NN K紧邻算法\n",
    "### KNN概述\n",
    "k-近邻（kNN, k-Nearest Neighbor）算法是一种基本的分类与回归方法。我们在这里只讨论 k-近邻算法在分类问题中的应用。\n",
    "\n",
    "所谓k近邻，就是k个最近的邻居的意思。其核心思想在于，任何一个样本都可以用距它最接近的k个样本来代表。\n",
    "\n",
    "<b>一句话总结：近朱者赤近墨者黑！</b>\n",
    "\n",
    "    优点：精度高、对异常值不敏感、无数据输入假定\n",
    "    缺点：计算复杂度高、空间复杂度高\n",
    "    适用数据范围：数值型和标称型\n",
    "    k近邻算法的算法思路如下图所示：\n",
    "<img src=\"http://121.40.249.2/notebook/lessons/2.1kNN/kNN_1.jpg\"\n",
    "style=\"width:200px;height:170px;float:left\">\n",
    "<div style=\"clear:both\" />\n",
    "\n",
    "k近邻算法的输入为样本的特征向量，对应于特征空间的点；输出为样本的类别，可以取多种类别。\n",
    "\n",
    "k近邻算法假设给定一个训练数据集，其中的样本类别已知。分类时，对新的样本，根据其 k 个距离最近的训练样本的类别，通过多数表决的方式进行预测。\n",
    "\n",
    "k值的选择、距离的度量方式以及分类决策规则是k近邻算法的三个基本要素。\n",
    "\n",
    "注意：k近邻算法不具有显式的学习过程！"
   ]
  },
  {
   "cell_type": "markdown",
   "metadata": {},
   "source": [
    "### kNN算法场景举例\n",
    "\n",
    "电影可以按照题材分类，那么如何区分 动作片 和 爱情片 呢？\n",
    "\n",
    "动作片：打斗次数更多\n",
    "\n",
    "爱情片：亲吻次数更多\n",
    "\n",
    "基于电影中的亲吻、打斗出现的次数，使用 k-近邻算法构造程序，就可以自动划分电影的题材类型。\n",
    "\n",
    "<img src=\"http://121.40.249.2/notebook/lessons/2.1kNN/kNN_2.png\"\n",
    "style=\"width:500px;height:350px;float:left\">\n",
    "<div style=\"clear:both\" />\n",
    "\n",
    "现在根据上面我们得到的样本集中所有电影与未知电影的距离，按照距离递增排序，可以找到 k 个距离最近的电影。\n",
    "\n",
    "假定 k=3，则三个最靠近的电影依次是， He's Not Really into Dudes 、 Beautiful Woman 和 California Man。\n",
    "\n",
    "knn 算法按照距离最近的三部电影的类型，决定未知电影的类型，而这三部电影全是爱情片，因此我们判定未知电影是爱情片。\n"
   ]
  },
  {
   "cell_type": "markdown",
   "metadata": {},
   "source": [
    "### kNN算法项目实践\n",
    "\n",
    "<b>项目流程：</b>\n",
    "  * 收集数据：任何方法\n",
    "  * 准备数据：距离计算所需要的数值，最好是结构化的数据格式\n",
    "  * 分析数据：任何方法\n",
    "  * 训练算法：此步骤不适用于 k-近邻算法\n",
    "  * 测试算法：计算错误率\n",
    "  * 使用算法：输入样本数据和结构化的输出结果，然后运行 k-近邻算法判断输入数据分类属于哪个分类，最后对计算出的分类执行后续处理\n",
    "\n",
    "<b>kNN 算法伪代码：</b>\n",
    "\n",
    "    对于每一个在数据集中的数据点：\n",
    "  * 计算目标的数据点（需要分类的数据点）与该数据点的距离\n",
    "  * 将距离排序：从小到大\n",
    "  * 选取前K个最短距离\n",
    "  * 选取这K个中最多的分类类别\n",
    "  * 返回该类别来作为目标数据点的预测值"
   ]
  },
  {
   "cell_type": "markdown",
   "metadata": {},
   "source": [
    "##  项目案例\n",
    "### 项目案例1: 优化约会网站的配对效果\n",
    "#### 项目需求\n",
    "\n",
    "代码链接：http://121.40.249.2:8888/edit/ares/2.%20k-NN/kNN.py\n",
    "\n",
    "数据链接：http://121.40.249.2:8888/edit/ares/2.%20k-NN/datingTestSet2.txt\n",
    "\n",
    "\n",
    "海伦使用约会网站寻找约会对象。经过一段时间之后，她发现曾交往过三种类型的人:\n",
    "\n",
    "* 不喜欢的人\n",
    "* 魅力一般的人\n",
    "* 极具魅力的人\n",
    "\n",
    "她希望：\n",
    "\n",
    "* 工作日与魅力一般的人约会\n",
    "* 周末与极具魅力的人约会\n",
    "* 不喜欢的人则直接排除掉\n",
    "\n",
    "现在她收集到了一些约会网站未曾记录的数据信息，这更有助于匹配对象的归类。\n",
    "\n",
    "海伦把这些约会对象的数据存放在文本文件 [datingTestSet2.txt](http://121.40.249.2:8888/edit/ares/2. k-NN/datingTestSet2.txt) 中，总共有 1000 行。\n",
    "\n",
    "海伦约会的对象主要包含以下 3 种特征：\n",
    "\n",
    "* 每年获得的飞行常客里程数\n",
    "* 玩视频游戏所耗时间百分比\n",
    "* 每周消费的冰淇淋公升数\n",
    "\n",
    "文本文件数据格式如下：\n",
    "\n",
    "    40920\t8.326976\t0.953952\t3\n",
    "    14488\t7.153469\t1.673904\t2\n",
    "    26052\t1.441871\t0.805124\t1\n",
    "    75136\t13.147394\t0.428964\t1\n",
    "    38344\t1.669788\t0.134296\t1\n",
    "\n",
    "**目的 : 根据海伦收集的1000条约会对象的数据，预测未知约会对象的类型，从而帮助海伦进行约会决策**"
   ]
  },
  {
   "cell_type": "markdown",
   "metadata": {},
   "source": [
    "#### 代码分析\n",
    "##### 加载类库"
   ]
  },
  {
   "cell_type": "code",
   "execution_count": 4,
   "metadata": {
    "ExecuteTime": {
     "end_time": "2018-05-19T02:52:52.154990Z",
     "start_time": "2018-05-19T02:52:52.142980Z"
    }
   },
   "outputs": [],
   "source": [
    "# 科学计算包numpy\n",
    "from numpy import *\n",
    "# 运算符模块operator\n",
    "import operator\n",
    "# 操作系统相关模块os\n",
    "from os import listdir\n",
    "# 集合模块collections\n",
    "from collections import Counter"
   ]
  },
  {
   "cell_type": "markdown",
   "metadata": {},
   "source": [
    "##### 矩阵转换函数（加载特征数据，生成矩阵）"
   ]
  },
  {
   "cell_type": "code",
   "execution_count": null,
   "metadata": {
    "ExecuteTime": {
     "start_time": "2018-05-19T03:03:51.470Z"
    }
   },
   "outputs": [],
   "source": [
    "def file2matrix(filename):\n",
    "    \"\"\"\n",
    "    导入训练数据\n",
    "    :param filename: 数据文件路径\n",
    "    :return: 数据矩阵returnMat和对应的类别classLabelVector\n",
    "    \"\"\"\n",
    "    fr = open(filename)\n",
    "    # 获得文件中的数据行的行数\n",
    "    numberOfLines = len(fr.readlines())\n",
    "    # 生成对应的空矩阵\n",
    "    # 例如：zeros(2，3)就是生成一个 2*3的矩阵，各个位置上全是 0 \n",
    "    returnMat = zeros(numberOfLines, 3)  # prepare matrix to return\n",
    "    classLabelVector = []  # prepare labels return\n",
    "    fr = open(filename)\n",
    "    index = 0\n",
    "    for line in fr.readlines():\n",
    "        # str.strip([chars]) --返回移除字符串头尾指定的字符生成的新字符串\n",
    "        line = line.strip()\n",
    "        # 以 '\\t' 切割字符串\n",
    "        listFromLine = line.split('\\t')\n",
    "        # 每列的属性数据\n",
    "        returnMat[index, :] = listFromLine[0:3]\n",
    "        # 每列的类别数据，就是 label 标签数据\n",
    "        classLabelVector.append(int(listFromLine[-1]))\n",
    "        index += 1\n",
    "    # 返回数据矩阵returnMat和对应的类别classLabelVector\n",
    "    return returnMat, classLabelVector"
   ]
  },
  {
   "cell_type": "markdown",
   "metadata": {},
   "source": [
    "##### 调用矩阵转换函数，加载数据文件，将数据转化为矩阵形式"
   ]
  },
  {
   "cell_type": "code",
   "execution_count": null,
   "metadata": {
    "ExecuteTime": {
     "start_time": "2018-05-19T03:04:05.710Z"
    }
   },
   "outputs": [],
   "source": [
    "datingDataMat, datingLabels = file2matrix('datingTestSet2.txt')  # load data setfrom file\n",
    "print(\"特征矩阵 1000行3列：\")\n",
    "print(datingDataMat)\n",
    "print(\"类别向量 1000行1列：\")\n",
    "print(datingLabels)"
   ]
  },
  {
   "cell_type": "code",
   "execution_count": null,
   "metadata": {},
   "outputs": [],
   "source": []
  }
 ],
 "metadata": {
  "kernelspec": {
   "display_name": "Python [conda env:anaconda3]",
   "language": "python",
   "name": "conda-env-anaconda3-py"
  },
  "language_info": {
   "codemirror_mode": {
    "name": "ipython",
    "version": 3
   },
   "file_extension": ".py",
   "mimetype": "text/x-python",
   "name": "python",
   "nbconvert_exporter": "python",
   "pygments_lexer": "ipython3",
   "version": "3.6.4"
  },
  "toc": {
   "base_numbering": 1,
   "nav_menu": {},
   "number_sections": true,
   "sideBar": true,
   "skip_h1_title": true,
   "title_cell": "Table of Contents",
   "title_sidebar": "Contents",
   "toc_cell": true,
   "toc_position": {},
   "toc_section_display": true,
   "toc_window_display": true
  }
 },
 "nbformat": 4,
 "nbformat_minor": 2
}
